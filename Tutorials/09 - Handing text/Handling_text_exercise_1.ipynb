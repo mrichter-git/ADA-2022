{
 "cells": [
  {
   "cell_type": "markdown",
   "metadata": {},
   "source": [
    "# Handling text exercise"
   ]
  },
  {
   "cell_type": "markdown",
   "metadata": {},
   "source": [
    "## Welcome! This exercise consists of:\n",
    "\n",
    "## Part 1: Hands on tutorial\n",
    "1. Implementing the natural language processing pipeline\n",
    "2. Solving four typical language processing tasks:\n",
    "   * Sentiment analysis\n",
    "   * Document classification\n",
    "   * Topic detection\n",
    "   * Semantic analysis\n",
    "\n",
    "\n",
    "### We will be working with four books in plain text:\n",
    "1. Moby-Dick, by Herman Melville\n",
    "2. Frankenstein; or, The Modern Prometheus, by Mary Shelley\n",
    "3. Pride and Prejudice, by Jane Austen\n",
    "4. Dracula, Bram Stoker\n",
    "\n",
    "#### To run this notebook, you need to install the following libraries:\n",
    "\n",
    "conda install nltk gensim spacy <br>\n",
    "pip install pyLDAvis  <br>\n",
    "pip install vaderSentiment  <br>\n",
    "pip install empath <br>\n",
    "python -m spacy download en  <br>\n",
    "python -m nltk.downloader punkt <br>\n",
    "python -m nltk.downloader all-corpora <br>\n",
    "\n",
    "## Part 2: Handling text comprehension questions\n",
    "- You can test your understanding of important NLP concepts. Solutions will be released next week.\n",
    "\n",
    "## Part 3: Coding exercise\n",
    "- When you are done, in \"Handling_text_exercise_2.ipynb\", you will find additional exercises you can work on independently."
   ]
  },
  {
   "cell_type": "markdown",
   "metadata": {},
   "source": [
    "## Part 1"
   ]
  },
  {
   "cell_type": "code",
   "execution_count": 48,
   "metadata": {},
   "outputs": [
    {
     "name": "stdout",
     "output_type": "stream",
     "text": [
      "The autoreload extension is already loaded. To reload it, use:\n",
      "  %reload_ext autoreload\n"
     ]
    }
   ],
   "source": [
    "%load_ext autoreload\n",
    "%autoreload 2\n",
    "\n",
    "import warnings; warnings.simplefilter('ignore')\n",
    "import os, codecs, string, random\n",
    "import numpy as np\n",
    "from numpy.random import seed as random_seed\n",
    "from numpy.random import shuffle as random_shuffle\n",
    "import matplotlib.pyplot as plt\n",
    "%matplotlib inline  \n",
    "\n",
    "seed = 42\n",
    "random.seed(seed)\n",
    "np.random.seed(seed)\n",
    "\n",
    "#NLP libraries\n",
    "import spacy, nltk, gensim, sklearn\n",
    "#import pyLDAvis.gensim\n",
    "import pyLDAvis.gensim_models\n",
    "\n",
    "#Vader\n",
    "import vaderSentiment\n",
    "from vaderSentiment.vaderSentiment import SentimentIntensityAnalyzer\n",
    "\n",
    "#Scikit imports\n",
    "from sklearn.feature_extraction.text import CountVectorizer\n",
    "from sklearn.model_selection import train_test_split\n",
    "from sklearn.model_selection import cross_val_score\n",
    "from sklearn.linear_model import LogisticRegression\n",
    "from sklearn import preprocessing\n",
    "from sklearn.preprocessing import StandardScaler\n",
    "from sklearn.utils import shuffle\n",
    "\n",
    "#The data\n",
    "corpus_root = 'books/'"
   ]
  },
  {
   "cell_type": "markdown",
   "metadata": {},
   "source": [
    "#### In this tutorial we will be working with text in English. The same principles apply, but the methods cannot be applied directly to the text in unknown or other languages. We will be working mainly with the Spacy library."
   ]
  },
  {
   "cell_type": "markdown",
   "metadata": {},
   "source": [
    "Initialize the Spacy analyzer in English"
   ]
  },
  {
   "cell_type": "code",
   "execution_count": 49,
   "metadata": {},
   "outputs": [],
   "source": [
    "nlp = spacy.load('en_core_web_sm')"
   ]
  },
  {
   "cell_type": "markdown",
   "metadata": {},
   "source": [
    "Load the books"
   ]
  },
  {
   "cell_type": "code",
   "execution_count": 50,
   "metadata": {},
   "outputs": [
    {
     "name": "stdout",
     "output_type": "stream",
     "text": [
      "DRACULA.txt\n",
      "Frankenstein.txt\n",
      "Moby_Dick.txt\n",
      "PRIDE_AND_PREJUDICE.txt\n"
     ]
    }
   ],
   "source": [
    "books = list()\n",
    "\n",
    "for book_file in os.listdir(corpus_root):\n",
    "    if \".txt\" in book_file:\n",
    "        print(book_file)\n",
    "        with codecs.open(os.path.join(corpus_root,book_file),encoding=\"utf8\") as f:\n",
    "            books.append(f.read())"
   ]
  },
  {
   "cell_type": "markdown",
   "metadata": {},
   "source": [
    "Print the beginning of Pride and Prejudice"
   ]
  },
  {
   "cell_type": "code",
   "execution_count": 51,
   "metadata": {},
   "outputs": [
    {
     "name": "stdout",
     "output_type": "stream",
     "text": [
      "PRIDE AND PREJUDICE\n",
      "\n",
      "By Jane Austen\n",
      "\n",
      "\n",
      "\n",
      "Chapter 1\n",
      "\n",
      "\n",
      "It is a truth universally acknowledged, that a single man in possession\n",
      "of a good fortune, must be in want of a wife.\n",
      "\n",
      "However little known the feelings or views of such a man may be on his\n",
      "first entering a neighbourhood, this truth is so well fixed in the minds\n",
      "of the surrounding families, that he is considered the rightful property\n",
      "of some one or other of their daughters.\n",
      "\n",
      "“My dear Mr. Bennet,” said his lady to him one day, “have you heard that\n",
      "Netherfield Park is let at last?”\n",
      "\n",
      "Mr. Bennet replied that he had not.\n",
      "\n",
      "“But\n"
     ]
    }
   ],
   "source": [
    "print(books[3][0:600])"
   ]
  },
  {
   "cell_type": "markdown",
   "metadata": {},
   "source": [
    "#### Let's remove the new lines"
   ]
  },
  {
   "cell_type": "code",
   "execution_count": 52,
   "metadata": {},
   "outputs": [],
   "source": [
    "books = [\" \".join(b.split()) for b in books]"
   ]
  },
  {
   "cell_type": "code",
   "execution_count": 53,
   "metadata": {},
   "outputs": [
    {
     "name": "stdout",
     "output_type": "stream",
     "text": [
      "PRIDE AND PREJUDICE By Jane Austen Chapter 1 It is a truth universally acknowledged, that a single man in possession of a good fortune, must be in want of a wife. However little known the feelings or views of such a man may be on his first entering a neighbourhood, this truth is so well fixed in the minds of the surrounding families, that he is considered the rightful property of some one or other of their daughters. “My dear Mr. Bennet,” said his lady to him one day, “have you heard that Netherfield Park is let at last?” Mr. Bennet replied that he had not. “But it is,” returned she; “for Mrs.\n"
     ]
    }
   ],
   "source": [
    "print(books[3][0:600])"
   ]
  },
  {
   "cell_type": "markdown",
   "metadata": {},
   "source": [
    "### Load Frankenstein"
   ]
  },
  {
   "cell_type": "code",
   "execution_count": 54,
   "metadata": {},
   "outputs": [],
   "source": [
    "#index all books\n",
    "book = books[1]\n",
    "\n",
    "#put in raw text, get a Spacy object\n",
    "doc = nlp(book)"
   ]
  },
  {
   "cell_type": "markdown",
   "metadata": {},
   "source": [
    "## Let's create our own NLP pipeline with Spacy!"
   ]
  },
  {
   "cell_type": "markdown",
   "metadata": {},
   "source": [
    "### Step 1: Sentence splitting\n",
    "\n",
    "#### May sound trivial, but it's not! (e.g., U.K. or Yahoo!) Spacy uses a statistical model to generate accurate predictions. This works well out of the box for general-purpose text or web text. For social media use dedicated libraries."
   ]
  },
  {
   "cell_type": "code",
   "execution_count": 55,
   "metadata": {},
   "outputs": [
    {
     "name": "stdout",
     "output_type": "stream",
     "text": [
      "Sentence 1: Frankenstein, or the Modern Prometheus by Mary Wollstonecraft (Godwin) \n",
      "\n",
      "Sentence 2: Shelley Letter 1 St. Petersburgh, Dec. 11th, 17-- TO Mrs. Saville, England You will rejoice to hear that no disaster has accompanied the commencement of an enterprise which you have regarded with such evil forebodings. \n",
      "\n",
      "Sentence 3: I arrived here yesterday, and my first task is to assure my dear sister of my welfare and increasing confidence in the success of my undertaking. \n",
      "\n"
     ]
    }
   ],
   "source": [
    "sentences = [sent for sent in doc.sents]\n",
    "print('Sentence 1:',sentences[0],'\\n')\n",
    "print('Sentence 2:',sentences[1],'\\n')\n",
    "print('Sentence 3:',sentences[2],'\\n')"
   ]
  },
  {
   "cell_type": "markdown",
   "metadata": {},
   "source": [
    "### Step 2: Tokenization\n",
    "\n",
    "#### The task of splitting a text into meaningful segments called tokens. We segment the sentence into words, punctuation, etc. This is done by first splitting on whitespace characters and them applying rules specific to each language. For example, \"don't\" does not contain whitespace, but should be split into two tokens, \"do\" and \"n't\", while \"U.K.\" should always remain one token and \"but,\" shouldn't."
   ]
  },
  {
   "cell_type": "markdown",
   "metadata": {},
   "source": [
    "### We will analyze the methods on an example sentence first"
   ]
  },
  {
   "cell_type": "code",
   "execution_count": 56,
   "metadata": {},
   "outputs": [
    {
     "name": "stdout",
     "output_type": "stream",
     "text": [
      "I am already far north of London, and as I walk in the streets of Petersburgh, I feel a cold northern breeze play upon my cheeks, which braces my nerves and fills me with delight. \n",
      "\n",
      "['I', 'am', 'already', 'far', 'north', 'of', 'London', ',', 'and', 'as', 'I', 'walk', 'in', 'the', 'streets', 'of', 'Petersburgh', ',', 'I', 'feel', 'a', 'cold', 'northern', 'breeze', 'play', 'upon', 'my', 'cheeks', ',', 'which', 'braces', 'my', 'nerves', 'and', 'fills', 'me', 'with', 'delight', '.']\n"
     ]
    }
   ],
   "source": [
    "example = 'I am already far north of London, and as I walk in the streets of Petersburgh, I feel a cold northern breeze play upon my cheeks, which braces my nerves and fills me with delight.'\n",
    "\n",
    "doc = nlp(example)\n",
    "\n",
    "#strings are encoded to hashes\n",
    "tokens = [token.text for token in doc]\n",
    "\n",
    "print(example,'\\n')\n",
    "print(tokens)"
   ]
  },
  {
   "cell_type": "markdown",
   "metadata": {},
   "source": [
    "### Step 3: Part of speech tagging\n",
    "\n",
    "#### The model makes a prediction of which tag or label most likely applies in this context. For example, a word following \"the\" in English is most likely a noun."
   ]
  },
  {
   "cell_type": "code",
   "execution_count": 57,
   "metadata": {},
   "outputs": [
    {
     "name": "stdout",
     "output_type": "stream",
     "text": [
      "I am already far north of London, and as I walk in the streets of Petersburgh, I feel a cold northern breeze play upon my cheeks, which braces my nerves and fills me with delight. \n",
      "\n",
      "[('I', 'PRON'), ('am', 'AUX'), ('already', 'ADV'), ('far', 'ADV'), ('north', 'ADV'), ('of', 'ADP'), ('London', 'PROPN'), (',', 'PUNCT'), ('and', 'CCONJ'), ('as', 'SCONJ'), ('I', 'PRON'), ('walk', 'VERB'), ('in', 'ADP'), ('the', 'DET'), ('streets', 'NOUN'), ('of', 'ADP'), ('Petersburgh', 'PROPN'), (',', 'PUNCT'), ('I', 'PRON'), ('feel', 'VERB'), ('a', 'DET'), ('cold', 'ADJ'), ('northern', 'ADJ'), ('breeze', 'NOUN'), ('play', 'VERB'), ('upon', 'SCONJ'), ('my', 'PRON'), ('cheeks', 'NOUN'), (',', 'PUNCT'), ('which', 'PRON'), ('braces', 'VERB'), ('my', 'PRON'), ('nerves', 'NOUN'), ('and', 'CCONJ'), ('fills', 'VERB'), ('me', 'PRON'), ('with', 'ADP'), ('delight', 'NOUN'), ('.', 'PUNCT')]\n"
     ]
    }
   ],
   "source": [
    "pos_tagged = [(token.text, token.pos_) for token in doc]\n",
    "\n",
    "print(example,'\\n')\n",
    "print(pos_tagged)"
   ]
  },
  {
   "cell_type": "code",
   "execution_count": 58,
   "metadata": {},
   "outputs": [
    {
     "name": "stdout",
     "output_type": "stream",
     "text": [
      "coordinating conjunction\n",
      "adposition\n",
      "determiner\n"
     ]
    }
   ],
   "source": [
    "print(spacy.explain('CCONJ'))\n",
    "print(spacy.explain('ADP'))\n",
    "print(spacy.explain('DET'))"
   ]
  },
  {
   "cell_type": "markdown",
   "metadata": {},
   "source": [
    "### When unsure, see here for more details: http://universaldependencies.org/u/pos/all.html"
   ]
  },
  {
   "cell_type": "markdown",
   "metadata": {},
   "source": [
    "#### More detailed annotation:"
   ]
  },
  {
   "cell_type": "code",
   "execution_count": 59,
   "metadata": {},
   "outputs": [
    {
     "name": "stdout",
     "output_type": "stream",
     "text": [
      "[('I', 'PRP'), ('am', 'VBP'), ('already', 'RB'), ('far', 'RB'), ('north', 'RB'), ('of', 'IN'), ('London', 'NNP'), (',', ','), ('and', 'CC'), ('as', 'IN'), ('I', 'PRP'), ('walk', 'VBP'), ('in', 'IN'), ('the', 'DT'), ('streets', 'NNS'), ('of', 'IN'), ('Petersburgh', 'NNP'), (',', ','), ('I', 'PRP'), ('feel', 'VBP'), ('a', 'DT'), ('cold', 'JJ'), ('northern', 'JJ'), ('breeze', 'NN'), ('play', 'VB'), ('upon', 'IN'), ('my', 'PRP$'), ('cheeks', 'NNS'), (',', ','), ('which', 'WDT'), ('braces', 'VBZ'), ('my', 'PRP$'), ('nerves', 'NNS'), ('and', 'CC'), ('fills', 'VBZ'), ('me', 'PRP'), ('with', 'IN'), ('delight', 'NN'), ('.', '.')]\n"
     ]
    }
   ],
   "source": [
    "pos_tagged = [(token.text, token.tag_) for token in doc]\n",
    "\n",
    "print(pos_tagged)"
   ]
  },
  {
   "cell_type": "code",
   "execution_count": 60,
   "metadata": {},
   "outputs": [
    {
     "name": "stdout",
     "output_type": "stream",
     "text": [
      "pronoun, personal\n",
      "verb, non-3rd person singular present\n"
     ]
    }
   ],
   "source": [
    "print(spacy.explain('PRP'))\n",
    "print(spacy.explain('VBP'))"
   ]
  },
  {
   "cell_type": "markdown",
   "metadata": {},
   "source": [
    "### Step 4: Named entity recognition\n",
    "\n",
    "#### For example, a person, a country, a product or a book title. Spacy can recognise various types of named entities in a document. This doesn't always work perfectly and might need some tuning later, depending on your use case.\n",
    "\n",
    "Built in entity types: <br>\n",
    "\n",
    "PERSON  People, including fictional.  <br>\n",
    "NORP\tNationalities or religious or political groups. <br>\n",
    "FAC\tBuildings, airports, highways, bridges, etc. <br>\n",
    "ORG\tCompanies, agencies, institutions, etc. <br>\n",
    "GPE\tCountries, cities, states. <br>\n",
    "LOC\tNon-GPE locations, mountain ranges, bodies of water. <br>\n",
    "PRODUCT\tObjects, vehicles, foods, etc. (Not services.) <br>\n",
    "EVENT\tNamed hurricanes, battles, wars, sports events, etc. <br>\n",
    "WORK_OF_ART\tTitles of books, songs, etc. <br>\n",
    "LAW\tNamed documents made into laws. <br>\n",
    "LANGUAGE\tAny named language. <br>\n",
    "DATE\tAbsolute or relative dates or periods. <br>\n",
    "TIME\tTimes smaller than a day. <br>\n",
    "PERCENT\tPercentage, including \"%\". <br>\n",
    "MONEY\tMonetary values, including unit. <br>\n",
    "QUANTITY\tMeasurements, as of weight or distance. <br>\n",
    "ORDINAL\t\"first\", \"second\", etc. <br>\n",
    "CARDINAL\tNumerals that do not fall under another type. <br>"
   ]
  },
  {
   "cell_type": "code",
   "execution_count": 61,
   "metadata": {},
   "outputs": [
    {
     "name": "stdout",
     "output_type": "stream",
     "text": [
      "I am already far north of London, and as I walk in the streets of Petersburgh, I feel a cold northern breeze play upon my cheeks, which braces my nerves and fills me with delight. \n",
      "\n",
      "London GPE\n",
      "Petersburgh GPE\n"
     ]
    }
   ],
   "source": [
    "print(example,'\\n')\n",
    "for ent in doc.ents:\n",
    "    print(ent.text, ent.label_)"
   ]
  },
  {
   "cell_type": "markdown",
   "metadata": {},
   "source": [
    "### Step 5: Removing stop words"
   ]
  },
  {
   "cell_type": "markdown",
   "metadata": {},
   "source": [
    "Let's check out all the stopwords:"
   ]
  },
  {
   "cell_type": "code",
   "execution_count": 62,
   "metadata": {},
   "outputs": [
    {
     "name": "stdout",
     "output_type": "stream",
     "text": [
      "Number of stop words: 326\n",
      "First ten stop words: ['’m', 'due', 'yours', 'eleven', 'becomes', 'no', \"'ve\", 'full', '‘ve', 'side']\n"
     ]
    }
   ],
   "source": [
    "spacy_stopwords = spacy.lang.en.stop_words.STOP_WORDS\n",
    "print('Number of stop words: %d' % len(spacy_stopwords))\n",
    "print('First ten stop words:',list(spacy_stopwords)[:10])"
   ]
  },
  {
   "cell_type": "markdown",
   "metadata": {},
   "source": [
    "Detecting stopwords in the example:"
   ]
  },
  {
   "cell_type": "code",
   "execution_count": 63,
   "metadata": {},
   "outputs": [
    {
     "name": "stdout",
     "output_type": "stream",
     "text": [
      "I am already far north of London, and as I walk in the streets of Petersburgh, I feel a cold northern breeze play upon my cheeks, which braces my nerves and fills me with delight. \n",
      "\n",
      "['I', 'am', 'already', 'of', 'and', 'as', 'I', 'in', 'the', 'of', 'I', 'a', 'upon', 'my', 'which', 'my', 'and', 'me', 'with']\n"
     ]
    }
   ],
   "source": [
    "print(example,'\\n')\n",
    "\n",
    "stop_words = [token.text for token in doc if token.is_stop]\n",
    "\n",
    "print(stop_words)"
   ]
  },
  {
   "cell_type": "markdown",
   "metadata": {},
   "source": [
    "#### Sometimes it's useful to define a custom list of stopwords. Other solutions: https://www.ranks.nl/stopwords \n"
   ]
  },
  {
   "cell_type": "markdown",
   "metadata": {},
   "source": [
    "### Step 6: Lemmatization\n",
    "\n",
    "#### A rule-based deterministic lemmatizer maps the surface form of a token to a lemma."
   ]
  },
  {
   "cell_type": "code",
   "execution_count": 64,
   "metadata": {},
   "outputs": [
    {
     "name": "stdout",
     "output_type": "stream",
     "text": [
      "I am already far north of London, and as I walk in the streets of Petersburgh, I feel a cold northern breeze play upon my cheeks, which braces my nerves and fills me with delight. \n",
      "\n",
      "am ---> be\n",
      "streets ---> street\n",
      "cheeks ---> cheek\n",
      "braces ---> brace\n",
      "nerves ---> nerve\n",
      "fills ---> fill\n",
      "me ---> I\n"
     ]
    }
   ],
   "source": [
    "print(example,'\\n')\n",
    "for token in doc:\n",
    "    if token.text != token.lemma_:\n",
    "        print(token.text,'--->',token.lemma_)"
   ]
  },
  {
   "cell_type": "markdown",
   "metadata": {},
   "source": [
    "### Step 7: Chunking (shallow parsing)\n",
    "\n",
    "#### Noun chunks are \"base noun phrases\" – flat phrases that have a noun as their head -- a noun plus the words describing the noun – for example, \"the lavish green grass\" or \"the world’s largest tech fund\". "
   ]
  },
  {
   "cell_type": "code",
   "execution_count": 65,
   "metadata": {},
   "outputs": [
    {
     "name": "stdout",
     "output_type": "stream",
     "text": [
      "I am already far north of London, and as I walk in the streets of Petersburgh, I feel a cold northern breeze play upon my cheeks, which braces my nerves and fills me with delight. \n",
      "\n",
      "I\n",
      "London\n",
      "I\n",
      "the streets\n",
      "Petersburgh\n",
      "I\n",
      "my cheeks\n",
      "which\n",
      "my nerves\n",
      "me\n",
      "delight\n"
     ]
    }
   ],
   "source": [
    "print(example,'\\n')\n",
    "\n",
    "for chunk in doc.noun_chunks:\n",
    "    print(chunk.text)"
   ]
  },
  {
   "cell_type": "markdown",
   "metadata": {},
   "source": [
    "### Step 8: Dependancy parsing\n",
    "\n",
    "#### The terms head and child describe the words connected by an arc in the dependency tree. The type of syntactic relation that connects the child to the head can be obtain through .dep_."
   ]
  },
  {
   "cell_type": "code",
   "execution_count": 66,
   "metadata": {},
   "outputs": [
    {
     "name": "stdout",
     "output_type": "stream",
     "text": [
      "I am already far north of London, and as I walk in the streets of Petersburgh, I feel a cold northern breeze play upon my cheeks, which braces my nerves and fills me with delight. \n",
      "\n",
      "Token: I Head: am Children: []\n",
      "Token: am Head: am Children: [I, already, north, ,, and, feel]\n",
      "Token: already Head: am Children: []\n",
      "Token: far Head: north Children: []\n",
      "Token: north Head: am Children: [far, of]\n",
      "Token: of Head: north Children: [London]\n",
      "Token: London Head: of Children: []\n",
      "Token: , Head: am Children: []\n",
      "Token: and Head: am Children: []\n",
      "Token: as Head: walk Children: []\n",
      "Token: I Head: walk Children: []\n",
      "Token: walk Head: feel Children: [as, I, in]\n",
      "Token: in Head: walk Children: [streets]\n",
      "Token: the Head: streets Children: []\n",
      "Token: streets Head: in Children: [the, of]\n",
      "Token: of Head: streets Children: [Petersburgh]\n",
      "Token: Petersburgh Head: of Children: []\n",
      "Token: , Head: feel Children: []\n",
      "Token: I Head: feel Children: []\n",
      "Token: feel Head: am Children: [walk, ,, I, play, .]\n",
      "Token: a Head: play Children: []\n",
      "Token: cold Head: breeze Children: []\n",
      "Token: northern Head: breeze Children: []\n",
      "Token: breeze Head: play Children: [cold, northern]\n",
      "Token: play Head: feel Children: [a, breeze, upon]\n",
      "Token: upon Head: play Children: [cheeks]\n",
      "Token: my Head: cheeks Children: []\n",
      "Token: cheeks Head: upon Children: [my, ,, braces]\n",
      "Token: , Head: cheeks Children: []\n",
      "Token: which Head: braces Children: []\n",
      "Token: braces Head: cheeks Children: [which, nerves, and, fills]\n",
      "Token: my Head: nerves Children: []\n",
      "Token: nerves Head: braces Children: [my]\n",
      "Token: and Head: braces Children: []\n",
      "Token: fills Head: braces Children: [me, with]\n",
      "Token: me Head: fills Children: []\n",
      "Token: with Head: fills Children: [delight]\n",
      "Token: delight Head: with Children: []\n",
      "Token: . Head: feel Children: []\n"
     ]
    }
   ],
   "source": [
    "print(example,'\\n')\n",
    "\n",
    "for token in doc:\n",
    "    print('Token:',token.text,'Head:',token.head.text, 'Children:',[child for child in token.children])"
   ]
  },
  {
   "cell_type": "markdown",
   "metadata": {},
   "source": [
    "### Counting word occurences"
   ]
  },
  {
   "cell_type": "code",
   "execution_count": 67,
   "metadata": {},
   "outputs": [
    {
     "name": "stdout",
     "output_type": "stream",
     "text": [
      "I am already far north of London, and as I walk in the streets of Petersburgh, I feel a cold northern breeze play upon my cheeks, which braces my nerves and fills me with delight. \n",
      "\n",
      "[('I', 3), (',', 3), ('of', 2), ('and', 2), ('my', 2), ('am', 1), ('already', 1), ('far', 1), ('north', 1), ('London', 1), ('as', 1), ('walk', 1), ('in', 1), ('the', 1), ('streets', 1), ('Petersburgh', 1), ('feel', 1), ('a', 1), ('cold', 1), ('northern', 1), ('breeze', 1), ('play', 1), ('upon', 1), ('cheeks', 1), ('which', 1), ('braces', 1), ('nerves', 1), ('fills', 1), ('me', 1), ('with', 1), ('delight', 1), ('.', 1)]\n"
     ]
    }
   ],
   "source": [
    "from collections import Counter\n",
    "\n",
    "print(example,'\\n')\n",
    "words = [token.text for token in doc]\n",
    "\n",
    "# five most common tokens\n",
    "word_freq = Counter(words)\n",
    "common_words = word_freq.most_common()\n",
    "\n",
    "print(common_words)"
   ]
  },
  {
   "cell_type": "markdown",
   "metadata": {},
   "source": [
    "### Without stop words and punctuation"
   ]
  },
  {
   "cell_type": "code",
   "execution_count": 68,
   "metadata": {},
   "outputs": [
    {
     "name": "stdout",
     "output_type": "stream",
     "text": [
      "[('far', 1), ('north', 1), ('London', 1), ('walk', 1), ('streets', 1), ('Petersburgh', 1), ('feel', 1), ('cold', 1), ('northern', 1), ('breeze', 1), ('play', 1), ('cheeks', 1), ('braces', 1), ('nerves', 1), ('fills', 1), ('delight', 1)]\n"
     ]
    }
   ],
   "source": [
    "words = [token.text for token in doc if token.is_stop != True and token.is_punct != True]\n",
    "\n",
    "# five most common tokens\n",
    "word_freq = Counter(words)\n",
    "common_words = word_freq.most_common()\n",
    "\n",
    "print(common_words)"
   ]
  },
  {
   "cell_type": "markdown",
   "metadata": {},
   "source": [
    "## Putting all the components together"
   ]
  },
  {
   "cell_type": "markdown",
   "metadata": {},
   "source": [
    "### Under the hood: the pipeline [\"tokenizer\",\"tagger\", \"parser\", \"ner\"]."
   ]
  },
  {
   "cell_type": "markdown",
   "metadata": {},
   "source": [
    "#### The NLP pipeline with Spacy\n",
    "<img src=\"spacy.png\">"
   ]
  },
  {
   "cell_type": "code",
   "execution_count": 69,
   "metadata": {},
   "outputs": [],
   "source": [
    "nlp = spacy.load('en_core_web_sm')"
   ]
  },
  {
   "cell_type": "markdown",
   "metadata": {},
   "source": [
    "### If you don't need a particular component of the pipeline – for example, the tagger or the parser, you can disable loading it. This can sometimes make a big difference and improve loading speed. "
   ]
  },
  {
   "cell_type": "code",
   "execution_count": 70,
   "metadata": {},
   "outputs": [
    {
     "data": {
      "text/plain": [
       "('tagger', <spacy.pipeline.tagger.Tagger at 0x1e8f2673820>)"
      ]
     },
     "execution_count": 70,
     "metadata": {},
     "output_type": "execute_result"
    }
   ],
   "source": [
    "nlp.remove_pipe('parser')\n",
    "nlp.remove_pipe('tagger')"
   ]
  },
  {
   "cell_type": "markdown",
   "metadata": {},
   "source": [
    "# Task 1: Sentiment analysis"
   ]
  },
  {
   "cell_type": "markdown",
   "metadata": {},
   "source": [
    "### Initialize the analyzer. Typically used for data from social media (short sentences)."
   ]
  },
  {
   "cell_type": "code",
   "execution_count": 71,
   "metadata": {},
   "outputs": [],
   "source": [
    "analyzer = SentimentIntensityAnalyzer()\n",
    "vs = analyzer.polarity_scores(example)"
   ]
  },
  {
   "cell_type": "markdown",
   "metadata": {},
   "source": [
    "### The sentiment score consits of four values. Neutral, positive and negative sum to one. The final score is obtained by thresholding the compound value (e.g. +/-0.05)."
   ]
  },
  {
   "cell_type": "code",
   "execution_count": 72,
   "metadata": {},
   "outputs": [
    {
     "name": "stdout",
     "output_type": "stream",
     "text": [
      "I am already far north of London, and as I walk in the streets of Petersburgh, I feel a cold northern breeze play upon my cheeks, which braces my nerves and fills me with delight. \n",
      "\n",
      "Negative sentiment: 0.035\n",
      "Neutral sentiment: 0.806\n",
      "Positive sentiment: 0.159\n",
      "Compound sentiment: 0.7096\n"
     ]
    }
   ],
   "source": [
    "print(example, '\\n')\n",
    "print('Negative sentiment:',vs['neg'])\n",
    "print('Neutral sentiment:',vs['neu'])\n",
    "print('Positive sentiment:',vs['pos'])\n",
    "print('Compound sentiment:',vs['compound'])"
   ]
  },
  {
   "cell_type": "markdown",
   "metadata": {},
   "source": [
    "### We can now observe the distributions of sentiment across all sentences in the book Pride and Prejudice:"
   ]
  },
  {
   "cell_type": "code",
   "execution_count": 73,
   "metadata": {},
   "outputs": [],
   "source": [
    "nlp = spacy.load('en_core_web_sm')\n",
    "doc = nlp(books[3])"
   ]
  },
  {
   "cell_type": "code",
   "execution_count": 74,
   "metadata": {},
   "outputs": [
    {
     "data": {
      "text/plain": [
       "Text(0, 0.5, 'Number of sentences')"
      ]
     },
     "execution_count": 74,
     "metadata": {},
     "output_type": "execute_result"
    },
    {
     "data": {
      "image/png": "[encoded data removed]",
      "text/plain": [
       "<Figure size 640x480 with 1 Axes>"
      ]
     },
     "metadata": {},
     "output_type": "display_data"
    }
   ],
   "source": [
    "positive_sent = []\n",
    "#iterate through the sentences, get polarity scores, choose a value\n",
    "[positive_sent.append(analyzer.polarity_scores(sent.text)['pos']) for sent in doc.sents]\n",
    "plt.hist(positive_sent,bins=15)\n",
    "plt.xlim([0,1])\n",
    "plt.ylim([0,8000])\n",
    "plt.xlabel('Positive sentiment')\n",
    "plt.ylabel('Number of sentences')"
   ]
  },
  {
   "cell_type": "code",
   "execution_count": 75,
   "metadata": {},
   "outputs": [
    {
     "data": {
      "text/plain": [
       "Text(0, 0.5, 'Number of sentences')"
      ]
     },
     "execution_count": 75,
     "metadata": {},
     "output_type": "execute_result"
    },
    {
     "data": {
      "image/png": "[encoded data removed]",
      "text/plain": [
       "<Figure size 640x480 with 1 Axes>"
      ]
     },
     "metadata": {},
     "output_type": "display_data"
    }
   ],
   "source": [
    "negative_sent = []\n",
    "[negative_sent.append(analyzer.polarity_scores(sent.text)['neg']) for sent in doc.sents]\n",
    "plt.hist(negative_sent,bins=15)\n",
    "plt.xlim([0,1])\n",
    "plt.ylim([0,8000])\n",
    "plt.xlabel('Negative sentiment')\n",
    "plt.ylabel('Number of sentences')"
   ]
  },
  {
   "cell_type": "code",
   "execution_count": 76,
   "metadata": {},
   "outputs": [
    {
     "data": {
      "text/plain": [
       "Text(0, 0.5, 'Number of sentences')"
      ]
     },
     "execution_count": 76,
     "metadata": {},
     "output_type": "execute_result"
    },
    {
     "data": {
      "image/png": "[encoded data removed]",
      "text/plain": [
       "<Figure size 640x480 with 1 Axes>"
      ]
     },
     "metadata": {},
     "output_type": "display_data"
    }
   ],
   "source": [
    "total_sent = []\n",
    "[total_sent.append(analyzer.polarity_scores(sent.text)['compound']) for sent in doc.sents]\n",
    "plt.hist(total_sent,bins = 15)\n",
    "plt.xlim([-1,1])\n",
    "plt.ylim([0,8000])\n",
    "plt.xlabel('Compound sentiment')\n",
    "plt.ylabel('Number of sentences')"
   ]
  },
  {
   "cell_type": "code",
   "execution_count": 77,
   "metadata": {},
   "outputs": [
    {
     "name": "stdout",
     "output_type": "stream",
     "text": [
      "Number of positive sentences: 2724\n",
      "Number of negative sentences: 1339\n",
      "Number of neutral sentences: 1863\n"
     ]
    }
   ],
   "source": [
    "sents = [analyzer.polarity_scores(sent.text)['compound'] for sent in doc.sents]\n",
    "print('Number of positive sentences:',sum(np.array(sents)>=0.05))\n",
    "print('Number of negative sentences:',sum(np.array(sents)<=-0.05))\n",
    "print('Number of neutral sentences:',sum(np.abs(np.array(sents))<0.05))"
   ]
  },
  {
   "cell_type": "markdown",
   "metadata": {},
   "source": [
    "#### Most of the sentences are quite neutral in sentiment. This is not the case when working with data from other sources (e.g., in social media opinions are strong and polarized (bimodal distribution))."
   ]
  },
  {
   "cell_type": "markdown",
   "metadata": {},
   "source": [
    "# Task 2: Document classification: Can we detect paragraphs from Frankenstein?"
   ]
  },
  {
   "cell_type": "code",
   "execution_count": 78,
   "metadata": {},
   "outputs": [
    {
     "name": "stdout",
     "output_type": "stream",
     "text": [
      "['DRACULA.txt', 'Frankenstein.txt', 'Moby_Dick.txt', 'PRIDE_AND_PREJUDICE.txt']\n"
     ]
    },
    {
     "data": {
      "text/plain": [
       "\u001b[1;31mInit signature:\u001b[0m\n",
       "\u001b[0mPlaintextCorpusReader\u001b[0m\u001b[1;33m(\u001b[0m\u001b[1;33m\n",
       "\u001b[0m    \u001b[0mroot\u001b[0m\u001b[1;33m,\u001b[0m\u001b[1;33m\n",
       "\u001b[0m    \u001b[0mfileids\u001b[0m\u001b[1;33m,\u001b[0m\u001b[1;33m\n",
       "\u001b[0m    \u001b[0mword_tokenizer\u001b[0m\u001b[1;33m=\u001b[0m\u001b[0mWordPunctTokenizer\u001b[0m\u001b[1;33m(\u001b[0m\u001b[0mpattern\u001b[0m\u001b[1;33m=\u001b[0m\u001b[1;34m'\\\\w+|[^\\\\w\\\\s]+'\u001b[0m\u001b[1;33m,\u001b[0m \u001b[0mgaps\u001b[0m\u001b[1;33m=\u001b[0m\u001b[1;32mFalse\u001b[0m\u001b[1;33m,\u001b[0m \u001b[0mdiscard_empty\u001b[0m\u001b[1;33m=\u001b[0m\u001b[1;32mTrue\u001b[0m\u001b[1;33m,\u001b[0m \u001b[0mflags\u001b[0m\u001b[1;33m=\u001b[0m\u001b[0mre\u001b[0m\u001b[1;33m.\u001b[0m\u001b[0mUNICODE\u001b[0m\u001b[1;33m|\u001b[0m\u001b[0mre\u001b[0m\u001b[1;33m.\u001b[0m\u001b[0mMULTILINE\u001b[0m\u001b[1;33m|\u001b[0m\u001b[0mre\u001b[0m\u001b[1;33m.\u001b[0m\u001b[0mDOTALL\u001b[0m\u001b[1;33m)\u001b[0m\u001b[1;33m,\u001b[0m\u001b[1;33m\n",
       "\u001b[0m    \u001b[0msent_tokenizer\u001b[0m\u001b[1;33m=\u001b[0m\u001b[1;33m<\u001b[0m\u001b[0mnltk\u001b[0m\u001b[1;33m.\u001b[0m\u001b[0mtokenize\u001b[0m\u001b[1;33m.\u001b[0m\u001b[0mpunkt\u001b[0m\u001b[1;33m.\u001b[0m\u001b[0mPunktSentenceTokenizer\u001b[0m \u001b[0mobject\u001b[0m \u001b[0mat\u001b[0m \u001b[1;36m0x000001E8EF5C79A0\u001b[0m\u001b[1;33m>\u001b[0m\u001b[1;33m,\u001b[0m\u001b[1;33m\n",
       "\u001b[0m    \u001b[0mpara_block_reader\u001b[0m\u001b[1;33m=\u001b[0m\u001b[1;33m<\u001b[0m\u001b[0mfunction\u001b[0m \u001b[0mread_blankline_block\u001b[0m \u001b[0mat\u001b[0m \u001b[1;36m0x000001E8EF5E5AF0\u001b[0m\u001b[1;33m>\u001b[0m\u001b[1;33m,\u001b[0m\u001b[1;33m\n",
       "\u001b[0m    \u001b[0mencoding\u001b[0m\u001b[1;33m=\u001b[0m\u001b[1;34m'utf8'\u001b[0m\u001b[1;33m,\u001b[0m\u001b[1;33m\n",
       "\u001b[0m\u001b[1;33m)\u001b[0m\u001b[1;33m\u001b[0m\u001b[1;33m\u001b[0m\u001b[0m\n",
       "\u001b[1;31mDocstring:\u001b[0m     \n",
       "Reader for corpora that consist of plaintext documents.  Paragraphs\n",
       "are assumed to be split using blank lines.  Sentences and words can\n",
       "be tokenized using the default tokenizers, or by custom tokenizers\n",
       "specified as parameters to the constructor.\n",
       "\n",
       "This corpus reader can be customized (e.g., to skip preface\n",
       "sections of specific document formats) by creating a subclass and\n",
       "overriding the ``CorpusView`` class variable.\n",
       "\u001b[1;31mInit docstring:\u001b[0m\n",
       "Construct a new plaintext corpus reader for a set of documents\n",
       "located at the given root directory.  Example usage:\n",
       "\n",
       "    >>> root = '/usr/local/share/nltk_data/corpora/webtext/'\n",
       "    >>> reader = PlaintextCorpusReader(root, '.*\\.txt') # doctest: +SKIP\n",
       "\n",
       ":param root: The root directory for this corpus.\n",
       ":param fileids: A list or regexp specifying the fileids in this corpus.\n",
       ":param word_tokenizer: Tokenizer for breaking sentences or\n",
       "    paragraphs into words.\n",
       ":param sent_tokenizer: Tokenizer for breaking paragraphs\n",
       "    into words.\n",
       ":param para_block_reader: The block reader used to divide the\n",
       "    corpus into paragraph blocks.\n",
       "\u001b[1;31mFile:\u001b[0m           c:\\users\\micri\\anaconda3\\envs\\ada\\lib\\site-packages\\nltk\\corpus\\reader\\plaintext.py\n",
       "\u001b[1;31mType:\u001b[0m           type\n",
       "\u001b[1;31mSubclasses:\u001b[0m     CategorizedPlaintextCorpusReader, EuroparlCorpusReader, UdhrCorpusReader\n"
      ]
     },
     "metadata": {},
     "output_type": "display_data"
    }
   ],
   "source": [
    "# Let's load our corpus via NLTK this time\n",
    "from nltk.corpus import PlaintextCorpusReader\n",
    "?PlaintextCorpusReader\n",
    "our_books = PlaintextCorpusReader(corpus_root, '.*.txt')\n",
    "print(our_books.fileids())"
   ]
  },
  {
   "cell_type": "markdown",
   "metadata": {},
   "source": [
    "### We will segment the books into equally long chunks"
   ]
  },
  {
   "cell_type": "code",
   "execution_count": 79,
   "metadata": {},
   "outputs": [
    {
     "name": "stderr",
     "output_type": "stream",
     "text": [
      "[nltk_data] Downloading package punkt to\n",
      "[nltk_data]     C:\\Users\\micri\\AppData\\Roaming\\nltk_data...\n",
      "[nltk_data]   Package punkt is already up-to-date!\n"
     ]
    },
    {
     "name": "stdout",
     "output_type": "stream",
     "text": [
      "DRACULA.txt :\n",
      "Number of sentences: 9303\n",
      "Number of chunks: 187 \n",
      "\n",
      "Frankenstein.txt :\n",
      "Number of sentences: 3378\n",
      "Number of chunks: 68 \n",
      "\n",
      "Moby_Dick.txt :\n",
      "Number of sentences: 9609\n",
      "Number of chunks: 193 \n",
      "\n",
      "PRIDE_AND_PREJUDICE.txt :\n",
      "Number of sentences: 6055\n",
      "Number of chunks: 122 \n",
      "\n"
     ]
    }
   ],
   "source": [
    "def get_chunks(l, n):\n",
    "    \"\"\"Yield successive n-sized chunks from l.\"\"\"\n",
    "    for i in range(0, len(l), n):\n",
    "        yield l[i:i + n]\n",
    "\n",
    "nltk.download('punkt')\n",
    "# Get the data\n",
    "book_id = {f:n for n,f in enumerate(our_books.fileids())} # dictionary of books\n",
    "\n",
    "chunks = list()\n",
    "chunk_class = list() # this list contains the original book of the chunk, for evaluation\n",
    "\n",
    "limit = 500 # how many chunks total\n",
    "size = 50 # how many sentences per chunk/page\n",
    "\n",
    "for f in our_books.fileids():\n",
    "    sentences = our_books.sents(f)\n",
    "    print(f,\":\")\n",
    "    print('Number of sentences:',len(sentences))\n",
    "    \n",
    "    # create chunks\n",
    "    chunks_of_sents = [x for x in get_chunks(sentences,size)] # this is a list of lists of sentences, which are a list of tokens\n",
    "    chs = list()\n",
    "    \n",
    "    # regroup so to have a list of chunks which are strings\n",
    "    for c in chunks_of_sents:\n",
    "        grouped_chunk = list()\n",
    "        for s in c:\n",
    "            grouped_chunk.extend(s)\n",
    "        chs.append(\" \".join(grouped_chunk))\n",
    "    print(\"Number of chunks:\",len(chs),'\\n')\n",
    "    \n",
    "    # filter to the limit, to have the same number of chunks per book\n",
    "    chunks.extend(chs[:limit])\n",
    "    chunk_class.extend([book_id[f] for _ in range(len(chs[:limit]))])"
   ]
  },
  {
   "cell_type": "markdown",
   "metadata": {},
   "source": [
    "### Representing the chunks with bag-of-words"
   ]
  },
  {
   "cell_type": "code",
   "execution_count": 80,
   "metadata": {},
   "outputs": [
    {
     "name": "stdout",
     "output_type": "stream",
     "text": [
      "Number of samples: 570\n",
      "Number of features: 23116\n"
     ]
    }
   ],
   "source": [
    "vectorizer = CountVectorizer()\n",
    "\n",
    "#initialize and specify minumum number of occurences to avoid untractable number of features\n",
    "#vectorizer = CountVectorizer(min_df = 2) if we want high frequency\n",
    "\n",
    "#create bag of words features\n",
    "X = vectorizer.fit_transform(chunks)\n",
    "\n",
    "print('Number of samples:',X.toarray().shape[0])\n",
    "print('Number of features:',X.toarray().shape[1])\n",
    "\n",
    "#mask and convert to int Frankenstein\n",
    "Y = np.array(chunk_class) == 1\n",
    "Y = Y.astype(int)  \n",
    "\n",
    "#shuffle the data\n",
    "X, Y = shuffle(X, Y, random_state=0)\n",
    "\n",
    "#split into training and test set\n",
    "X_train, X_test, Y_train, Y_test = train_test_split(X, Y, test_size=0.2, random_state=42)"
   ]
  },
  {
   "cell_type": "markdown",
   "metadata": {},
   "source": [
    "### Let's fit the regularized logistic regression. We will crossvalidate the regularization parameter on the training set."
   ]
  },
  {
   "cell_type": "code",
   "execution_count": 81,
   "metadata": {},
   "outputs": [],
   "source": [
    "accs = []\n",
    "\n",
    "#the grid of regularization parameter \n",
    "grid = [0.01,0.1,1,10,100,1000,10000]\n",
    "\n",
    "for c in grid:\n",
    "    \n",
    "    #initialize the classifier\n",
    "    clf = LogisticRegression(random_state=0, solver='lbfgs',C = c)\n",
    "    \n",
    "    #crossvalidate\n",
    "    scores = cross_val_score(clf, X_train,Y_train, cv=10)\n",
    "    accs.append(np.mean(scores))"
   ]
  },
  {
   "cell_type": "code",
   "execution_count": 82,
   "metadata": {},
   "outputs": [
    {
     "data": {
      "text/plain": [
       "(0.986, 1.0)"
      ]
     },
     "execution_count": 82,
     "metadata": {},
     "output_type": "execute_result"
    },
    {
     "data": {
      "image/png": "[encoded data removed]",
      "text/plain": [
       "<Figure size 640x480 with 1 Axes>"
      ]
     },
     "metadata": {},
     "output_type": "display_data"
    }
   ],
   "source": [
    "plt.plot(accs)\n",
    "plt.xticks(range(len(grid)), grid)\n",
    "plt.xlabel('Regularization parameter \\n (Low - strong regularization, High - weak regularization)')\n",
    "plt.ylabel('Crossvalidation accuracy')\n",
    "plt.ylim([0.986,1])"
   ]
  },
  {
   "cell_type": "markdown",
   "metadata": {},
   "source": [
    "### Let's train again, on the entire training set, with the chosen regularization parameter. We will test on the test set"
   ]
  },
  {
   "cell_type": "code",
   "execution_count": 83,
   "metadata": {},
   "outputs": [
    {
     "name": "stdout",
     "output_type": "stream",
     "text": [
      "Accuracy: 0.9824561403508771\n"
     ]
    }
   ],
   "source": [
    "clf = LogisticRegression(random_state=0, solver='lbfgs',C = 10).fit(X_train,Y_train)\n",
    "\n",
    "#predict on the test set\n",
    "print('Accuracy:',clf.score(X_test,Y_test))"
   ]
  },
  {
   "cell_type": "markdown",
   "metadata": {},
   "source": [
    "### What features characterize Frankenstein? BOW are interpretable!"
   ]
  },
  {
   "cell_type": "code",
   "execution_count": 86,
   "metadata": {},
   "outputs": [
    {
     "name": "stdout",
     "output_type": "stream",
     "text": [
      "['frankenstein' 'towards' 'poor' 'me' 'father' 'death' 'creature' 'had'\n",
      " 'misery' 'who' 'will' 'justine' 'this' 'but' 'by' 'which' 'my' 'and' 'of'\n",
      " 'yet']\n"
     ]
    }
   ],
   "source": [
    "coefs=clf.coef_[0]\n",
    "top_three = np.argpartition(coefs, -20)[-20:]\n",
    "\n",
    "print(np.array(vectorizer.get_feature_names_out())[top_three])"
   ]
  },
  {
   "cell_type": "markdown",
   "metadata": {},
   "source": [
    "### We can perfectly predict paragraphs from Frankenstein! We saw issues of high dimensionality when using bag of words (more features than samples) and how regularization helps."
   ]
  },
  {
   "cell_type": "markdown",
   "metadata": {},
   "source": [
    "### Alternative text representation: word emdeddings, pretrained on intergraded in Spacy (300-dimensional word vectors trained on Common Crawl with GloVe.) Depending on the application, might be suitable or not"
   ]
  },
  {
   "cell_type": "code",
   "execution_count": 87,
   "metadata": {},
   "outputs": [
    {
     "name": "stdout",
     "output_type": "stream",
     "text": [
      "I am already far north of London, and as I walk in the streets of Petersburgh, I feel a cold northern breeze play upon my cheeks, which braces my nerves and fills me with delight. \n",
      "\n",
      "Embedding representation: [-0.06188351, 0.080382675, 0.066186264, 0.106807366, -0.112358056, -0.21661319, 0.20310514, -0.13948981, 0.15524131, -0.20551804] ...\n"
     ]
    }
   ],
   "source": [
    "print(example,'\\n')\n",
    "print('Embedding representation:',list((nlp(example).vector)[0:10]),'...')"
   ]
  },
  {
   "cell_type": "markdown",
   "metadata": {},
   "source": [
    "# Task 3: Topic detection"
   ]
  },
  {
   "cell_type": "code",
   "execution_count": 88,
   "metadata": {},
   "outputs": [
    {
     "name": "stdout",
     "output_type": "stream",
     "text": [
      "DRACULA.txt\n",
      "Number of sentences: 9303\n",
      "Number of chunks: 187 \n",
      "\n",
      "Frankenstein.txt\n",
      "Number of sentences: 3378\n",
      "Number of chunks: 68 \n",
      "\n",
      "Moby_Dick.txt\n",
      "Number of sentences: 9609\n",
      "Number of chunks: 193 \n",
      "\n",
      "PRIDE_AND_PREJUDICE.txt\n",
      "Number of sentences: 6055\n",
      "Number of chunks: 122 \n",
      "\n"
     ]
    }
   ],
   "source": [
    "# Get the chunks again (into smaller chunks)\n",
    "book_id = {f:n for n,f in enumerate(our_books.fileids())} # dictionary of books\n",
    "chunks = list()\n",
    "chunk_class = list() # this list contains the original book of the chunk, for evaluation\n",
    "\n",
    "limit = 60 # how many chunks total\n",
    "size = 50 # how many sentences per chunk/page\n",
    "\n",
    "for f in our_books.fileids():\n",
    "    sentences = our_books.sents(f)\n",
    "    print(f)\n",
    "    print('Number of sentences:',len(sentences))\n",
    "    \n",
    "    # create chunks\n",
    "    chunks_of_sents = [x for x in get_chunks(sentences,size)] # this is a list of lists of sentences, which are a list of tokens\n",
    "    chs = list()\n",
    "    \n",
    "    # regroup so to have a list of chunks which are strings\n",
    "    for c in chunks_of_sents:\n",
    "        grouped_chunk = list()\n",
    "        for s in c:\n",
    "            grouped_chunk.extend(s)\n",
    "        chs.append(\" \".join(grouped_chunk))\n",
    "    print(\"Number of chunks:\",len(chs),'\\n')\n",
    "    \n",
    "    # filter to the limit, to have the same number of chunks per book\n",
    "    chunks.extend(chs[:limit])\n",
    "    chunk_class.extend([book_id[f] for _ in range(len(chs[:limit]))])"
   ]
  },
  {
   "cell_type": "code",
   "execution_count": 89,
   "metadata": {},
   "outputs": [],
   "source": [
    "STOPWORDS = spacy.lang.en.stop_words.STOP_WORDS\n",
    "\n",
    "processed_docs = list()\n",
    "for doc in nlp.pipe(chunks, n_process=5, batch_size=10):\n",
    "\n",
    "    # Process document using Spacy NLP pipeline.\n",
    "    ents = doc.ents  # Named entities\n",
    "\n",
    "    # Keep only words (no numbers, no punctuation).\n",
    "    # Lemmatize tokens, remove punctuation and remove stopwords.\n",
    "    doc = [token.lemma_ for token in doc if token.is_alpha and not token.is_stop]\n",
    "\n",
    "    # Remove common words from a stopword list and keep only words of length 3 or more.\n",
    "    doc = [token for token in doc if token not in STOPWORDS and len(token) > 2]\n",
    "\n",
    "    # Add named entities, but only if they are a compound of more than word.\n",
    "    doc.extend([str(entity) for entity in ents if len(entity) > 1])\n",
    "\n",
    "    processed_docs.append(doc)\n",
    "docs = processed_docs\n",
    "del processed_docs"
   ]
  },
  {
   "cell_type": "code",
   "execution_count": 90,
   "metadata": {},
   "outputs": [],
   "source": [
    "# Add bigrams too\n",
    "from gensim.models.phrases import Phrases\n",
    "\n",
    "# Add bigrams to docs (only ones that appear 15 times or more).\n",
    "bigram = Phrases(docs, min_count=15)\n",
    "\n",
    "for idx in range(len(docs)):\n",
    "    for token in bigram[docs[idx]]:\n",
    "        if '_' in token:\n",
    "            # Token is a bigram, add to document.\n",
    "            docs[idx].append(token)"
   ]
  },
  {
   "cell_type": "code",
   "execution_count": 91,
   "metadata": {},
   "outputs": [
    {
     "name": "stdout",
     "output_type": "stream",
     "text": [
      "Number of unique tokens: 3073\n",
      "Number of chunks: 240\n"
     ]
    }
   ],
   "source": [
    "# Create a dictionary representation of the documents, and filter out frequent and rare words.\n",
    "from gensim.corpora import Dictionary\n",
    "dictionary = Dictionary(docs)\n",
    "\n",
    "# Remove rare and common tokens.\n",
    "# Filter out words that occur too frequently or too rarely.\n",
    "max_freq = 0.5\n",
    "min_wordcount = 5\n",
    "dictionary.filter_extremes(no_below=min_wordcount, no_above=max_freq)\n",
    "\n",
    "# Bag-of-words representation of the documents.\n",
    "corpus = [dictionary.doc2bow(doc) for doc in docs]\n",
    "#MmCorpus.serialize(\"models/corpus.mm\", corpus)\n",
    "\n",
    "print('Number of unique tokens: %d' % len(dictionary))\n",
    "print('Number of chunks: %d' % len(corpus))"
   ]
  },
  {
   "cell_type": "code",
   "execution_count": 92,
   "metadata": {},
   "outputs": [],
   "source": [
    "# models\n",
    "from gensim.models import LdaMulticore\n",
    "params = {'passes': 10, 'random_state': seed}\n",
    "base_models = dict()\n",
    "model = LdaMulticore(corpus=corpus, num_topics=4, id2word=dictionary, workers=6,\n",
    "                passes=params['passes'], random_state=params['random_state'])"
   ]
  },
  {
   "cell_type": "code",
   "execution_count": 93,
   "metadata": {},
   "outputs": [
    {
     "data": {
      "text/plain": [
       "[(0,\n",
       "  '0.006*\"father\" + 0.005*\"life\" + 0.004*\"feeling\" + 0.004*\"mind\" + 0.004*\"night\"'),\n",
       " (1,\n",
       "  '0.019*\"whale\" + 0.012*\"ship\" + 0.011*\"sea\" + 0.009*\"old\" + 0.007*\"Queequeg\"'),\n",
       " (2,\n",
       "  '0.016*\"Elizabeth\" + 0.011*\"Darcy\" + 0.010*\"Bingley\" + 0.009*\"Miss\" + 0.009*\"Bennet\"'),\n",
       " (3,\n",
       "  '0.009*\"room\" + 0.009*\"night\" + 0.008*\"door\" + 0.007*\"sleep\" + 0.007*\"Lucy\"')]"
      ]
     },
     "execution_count": 93,
     "metadata": {},
     "output_type": "execute_result"
    }
   ],
   "source": [
    "model.show_topics(num_words=5)"
   ]
  },
  {
   "cell_type": "code",
   "execution_count": 94,
   "metadata": {},
   "outputs": [
    {
     "data": {
      "text/plain": [
       "[('whale', 0.018978516),\n",
       " ('ship', 0.011723755),\n",
       " ('sea', 0.010643951),\n",
       " ('old', 0.00865855),\n",
       " ('Queequeg', 0.007100903),\n",
       " ('Captain', 0.0062466296),\n",
       " ('Ahab', 0.0059651993),\n",
       " ('head', 0.0050570555),\n",
       " ('Bildad', 0.0041933716),\n",
       " ('sail', 0.0040963464),\n",
       " ('stand', 0.0039470224),\n",
       " ('Peleg', 0.003864929),\n",
       " ('world', 0.0037362599),\n",
       " ('deck', 0.0036862434),\n",
       " ('thou', 0.0036681783),\n",
       " ('sort', 0.0036644598),\n",
       " ('God', 0.0036201724),\n",
       " ('round', 0.0034436765),\n",
       " ('Jonah', 0.0034345407),\n",
       " ('voyage', 0.003319029)]"
      ]
     },
     "execution_count": 94,
     "metadata": {},
     "output_type": "execute_result"
    }
   ],
   "source": [
    "model.show_topic(1,20)"
   ]
  },
  {
   "cell_type": "code",
   "execution_count": 95,
   "metadata": {},
   "outputs": [
    {
     "data": {
      "text/plain": [
       "[(3, 0.9972055)]"
      ]
     },
     "execution_count": 95,
     "metadata": {},
     "output_type": "execute_result"
    }
   ],
   "source": [
    "sorted(model[corpus[0]],key=lambda x:x[1],reverse=True)"
   ]
  },
  {
   "cell_type": "code",
   "execution_count": 96,
   "metadata": {},
   "outputs": [
    {
     "data": {
      "text/html": [
       "\n",
       "<link rel=\"stylesheet\" type=\"text/css\" href=\"https://cdn.jsdelivr.net/gh/bmabey/pyLDAvis@3.3.1/pyLDAvis/js/ldavis.v1.0.0.css\">\n",
       "\n",
       "\n",
       "<div id=\"ldavis_el1709220981054117286394267984\"></div>\n",
       "<script type=\"text/javascript\">\n",
       "\n",
       "var ldavis_el1709220981054117286394267984_data = {\"mdsDat\": {\"x\": [0.02729045372312887, 0.1652516622142515, -0.13966986729986283, -0.052872248637517584], \"y\": [-0.10820555566282766, 0.03452828723129417, -0.013164009843512101, 0.08684127827504556], \"topics\": [1, 2, 3, 4], \"cluster\": [1, 1, 1, 1], \"Freq\": [28.201693116980437, 27.371893326323153, 23.847892316358024, 20.578521240338386]}, \"tinfo\": {\"Term\": [\"whale\", \"Elizabeth\", \"Darcy\", \"ship\", \"Bingley\", \"Bennet\", \"Miss\", \"sea\", \"Jane\", \"Collins\", \"Mrs\", \"Lucy\", \"Ahab\", \"Queequeg\", \"Captain\", \"room\", \"sister\", \"Count\", \"sleep\", \"door\", \"old\", \"Mrs_Bennet\", \"night\", \"Bildad\", \"Lady\", \"bed\", \"window\", \"Peleg\", \"Catherine\", \"Wickham\", \"Clerval\", \"Felix\", \"Justine\", \"Henry\", \"wretch\", \"Geneva\", \"Safie\", \"creator\", \"Frankenstein\", \"inhabit\", \"victim\", \"thirst\", \"hovel\", \"Ernest\", \"forever\", \"abhor\", \"cottage\", \"unfortunate\", \"ardour\", \"hatred\", \"crime\", \"daemon\", \"cottager\", \"Victor\", \"protector\", \"Ingolstadt\", \"accent\", \"contemplate\", \"Switzerland\", \"beheld\", \"lake\", \"murderer\", \"sensation\", \"tale\", \"fiend\", \"miserable\", \"murder\", \"misery\", \"despair\", \"human\", \"weep\", \"gentle\", \"reflect\", \"endure\", \"scene\", \"mountain\", \"discover\", \"father\", \"horror\", \"creature\", \"destroy\", \"appear\", \"tear\", \"death\", \"life\", \"feeling\", \"endeavour\", \"month\", \"remain\", \"mind\", \"child\", \"pass\", \"return\", \"love\", \"heart\", \"night\", \"enter\", \"spirit\", \"fear\", \"word\", \"hope\", \"Elizabeth\", \"dear\", \"country\", \"old\", \"Bingley\", \"Darcy\", \"Jane\", \"Bennet\", \"Miss_Bingley\", \"Collins\", \"Mrs_Bennet\", \"Wickham\", \"Charlotte\", \"Lucas\", \"Netherfield\", \"Catherine\", \"Longbourn\", \"Lady_Catherine\", \"Lydia\", \"Miss_Bennet\", \"Hurst\", \"Lizzy\", \"Meryton\", \"Lady\", \"Colonel\", \"Lady Catherine\", \"Bourgh\", \"Fitzwilliam\", \"Miss_Lucas\", \"Hertfordshire\", \"Rosings\", \"Eliza\", \"Colonel_Fitzwilliam\", \"Mrs_Hurst\", \"Miss\", \"Sir_William\", \"Mrs\", \"Elizabeth\", \"dance\", \"sister\", \"lady\", \"daughter\", \"family\", \"young\", \"cousin\", \"wish\", \"attention\", \"reply\", \"hope\", \"manner\", \"believe\", \"dear\", \"room\", \"mother\", \"mean\", \"father\", \"walk\", \"Bildad\", \"Ahab\", \"Peleg\", \"Jonah\", \"Pequod\", \"ship\", \"mast\", \"Stubb\", \"Captain_Ahab\", \"whale\", \"Flask\", \"Nantucket\", \"Captain_Peleg\", \"mast_head\", \"captain\", \"Starbuck\", \"shipmate\", \"Cape\", \"whale_ship\", \"oil\", \"pilot\", \"sperm\", \"lance\", \"sperm_whale\", \"Captain\", \"pulpit\", \"whaling\", \"cabin\", \"fishery\", \"Bedford\", \"deck\", \"crew\", \"sailor\", \"whaleman\", \"leg\", \"sea\", \"thou\", \"mate\", \"sail\", \"Queequeg\", \"Whale\", \"voyage\", \"board\", \"old\", \"fish\", \"head\", \"boat\", \"God\", \"stand\", \"water\", \"round\", \"sort\", \"world\", \"chapter\", \"land\", \"small\", \"Count\", \"Mina\", \"Helsing\", \"Van_Helsing\", \"Lucy\", \"Van Helsing\", \"Westenra\", \"Jonathan\", \"Seward\", \"Dracula\", \"driver\", \"Hawkins\", \"diary\", \"Van\", \"Holmwood\", \"Arthur\", \"Diary\", \"Renfield\", \"Pass\", \"wolf\", \"lunch\", \"Bistritz\", \"lunatic\", \"Arthur Holmwood\", \"Amsterdam\", \"Transylvania\", \"key\", \"Murray\", \"Slovaks\", \"Harker\", \"September\", \"asleep\", \"later\", \"patient\", \"landlord\", \"window\", \"bed\", \"door\", \"sleep\", \"lock\", \"wake\", \"moonlight\", \"room\", \"night\", \"try\", \"ask\", \"castle\", \"open\", \"write\", \"face\", \"run\", \"dear\", \"fear\", \"sit\", \"close\", \"light\", \"old\", \"sort\", \"want\", \"fall\", \"till\", \"head\", \"round\", \"letter\", \"lie\", \"morning\", \"house\", \"love\"], \"Freq\": [339.0, 385.0, 229.0, 209.0, 205.0, 178.0, 193.0, 218.0, 142.0, 145.0, 192.0, 104.0, 105.0, 160.0, 115.0, 255.0, 177.0, 89.0, 161.0, 166.0, 283.0, 85.0, 271.0, 74.0, 89.0, 110.0, 103.0, 68.0, 78.0, 76.0, 51.31227240352224, 46.46599764056928, 52.13104792550064, 27.23664040530551, 20.648006773989, 34.71581482998557, 23.369060774939246, 18.661190463943345, 14.81053835128246, 14.78706890806796, 16.60422423211465, 13.793931780824355, 13.74009039977863, 12.81973414690661, 30.174814700095713, 11.887065660906648, 53.74892151135799, 11.829038072521541, 12.726859958064804, 10.892075208449915, 23.559763372161456, 10.830247221670572, 23.44794608430271, 20.742084061753207, 13.52695078888672, 15.2821519269664, 9.883521348061823, 11.675647166555075, 8.96925991500548, 24.21196077401097, 31.350262779530357, 26.882852400710163, 42.213431162622975, 29.848300142800174, 28.375707061782055, 53.77028643288106, 39.181508899853526, 48.066357182972865, 39.01484664693287, 54.6119508818107, 26.11619594134013, 32.01343830880965, 31.24144061905885, 32.651441306789486, 55.902576753187034, 50.432118404251995, 48.65327715358021, 125.38259959498787, 45.74026337111921, 61.26345093893648, 37.11465946878517, 79.98962196555672, 46.48746352144247, 64.75951458358311, 106.69068744117891, 82.59821926943073, 46.529803949852386, 45.169689200056965, 64.47098718367158, 82.04651007407877, 51.41144813846809, 78.8717711953721, 69.8609520850232, 73.12608804280238, 68.32895644542295, 81.54439595758188, 58.581927331150816, 50.876435696592644, 55.019547816232084, 56.447747628720954, 54.738529868935096, 58.816181868984515, 54.25333846255549, 49.32836828996907, 50.00098832607376, 203.55840669428355, 226.97945294559022, 141.60350046273908, 175.85499091080942, 67.13185702710659, 143.5705265631005, 83.88713013069149, 75.36263177831648, 70.69671096108569, 57.63133943060462, 48.25164195872882, 76.94018060750727, 39.780262839302665, 70.22042032650911, 35.97441258212068, 34.0631397455408, 29.43069608368522, 34.9331888262907, 29.401070819279724, 86.22585087777098, 29.30263879019893, 48.497864348419995, 30.175905168130683, 28.330448106387713, 22.829362202216355, 23.72349085092413, 24.582684178383843, 19.049406637870774, 22.663378597643618, 18.126574285589143, 182.2892119840536, 37.74753761737416, 171.1435986489997, 323.80995395104594, 59.171638537673964, 154.41486649736603, 95.16572819334921, 69.39733818525734, 77.63116925213673, 117.67679494964392, 53.30510360285112, 101.32945366451644, 59.59184228011728, 68.52577961119586, 89.05625115878276, 81.45391090278979, 70.08910607372923, 84.70365635817895, 88.90896940642884, 64.48255861443725, 70.34236965478722, 69.64978052729573, 64.99366325086127, 73.21925150125459, 104.15662339927972, 67.48441099025607, 59.96952379361422, 44.67980438412257, 204.7051005333303, 52.0901866999111, 42.76840092553708, 39.00516414837791, 331.37838312545637, 37.05816821208796, 50.844388999425234, 27.65346680333116, 23.905028040888634, 49.65397408863301, 35.842730834103165, 31.18295796149155, 20.122968514240984, 21.02198246408074, 29.156518232733113, 17.27835712180978, 17.239187102085918, 19.88754185703195, 15.34521704641489, 109.07059689392494, 17.092154190476883, 16.193685002717356, 46.72065388298078, 14.35387710379528, 15.242790595513192, 64.3644325297412, 30.360881492012375, 43.54465436675289, 30.847512579813767, 34.18909334340472, 185.85094998285348, 64.04900308912313, 57.63917390300135, 71.5251227395183, 123.98681685120168, 52.59176215642084, 57.95260723778813, 37.83753980640478, 151.18443772234733, 44.365761241037035, 88.2997863373273, 48.84554716157447, 63.21078499397571, 68.91781824655065, 56.42041103709397, 60.12904151379326, 63.98407476685953, 65.23775525595407, 57.07236928546728, 45.434015288032434, 45.60479413479529, 88.03013831993762, 35.452320522608844, 26.08388420827084, 26.070008101863824, 101.17827447162708, 19.386822015706812, 20.28080915831949, 35.0217139471447, 18.363457852669217, 15.417224215512578, 28.949522065716195, 12.66120251200479, 13.530210558252618, 26.086497708276713, 13.443120494130765, 40.29576748315574, 10.682347131887472, 10.642803473577146, 8.84418926148225, 21.171791652938836, 8.809665628015418, 8.80428602766776, 7.891664980818587, 7.844595670310144, 6.952804130806428, 7.80700950596395, 31.218152328531573, 8.667057106050704, 6.932004880424125, 6.925964888967601, 15.582562294407555, 26.226300664295525, 17.856310807570004, 21.955194418792978, 23.550269601235925, 81.24325416643352, 85.34656844947853, 114.49293793241553, 110.69039014132146, 30.029550066129424, 30.56715929552527, 18.380150926196656, 137.41576757318128, 135.6245413221768, 71.89291590112947, 72.51109810788755, 27.002324239193495, 69.75140347215675, 65.20399063912063, 58.0704827157102, 54.43989971694882, 77.93118841134081, 62.24355815461665, 61.25785119401266, 48.409976374541465, 55.82919773147975, 75.63527952296079, 55.324557190748585, 50.48889460136012, 45.73782872692683, 48.02778444817938, 56.627669341998626, 48.11314942689467, 49.58507613825556, 42.30044126148543, 43.03346311413913, 42.56007231576006, 42.583558735275915], \"Total\": [339.0, 385.0, 229.0, 209.0, 205.0, 178.0, 193.0, 218.0, 142.0, 145.0, 192.0, 104.0, 105.0, 160.0, 115.0, 255.0, 177.0, 89.0, 161.0, 166.0, 283.0, 85.0, 271.0, 74.0, 89.0, 110.0, 103.0, 68.0, 78.0, 76.0, 52.86279451443035, 47.96748220160212, 53.83737019412709, 28.378328036579525, 21.52947994590613, 36.206522733462236, 24.462593677763337, 19.56897031255733, 15.651428995012125, 15.650815502955641, 17.605539851257966, 14.670219428847338, 14.668810836941226, 13.690555619232057, 32.264528588235606, 12.712456083940442, 57.68952461165456, 12.71005922047124, 13.687350605838018, 11.731943718476838, 25.41632284770442, 11.729553988163582, 25.409591364321596, 22.478689688339607, 14.66199405213541, 16.61357288573169, 10.750932694029052, 12.704750081482812, 9.773211880691685, 26.3824653995835, 34.20359008588066, 29.318789757866934, 46.91091948263221, 33.220528241375746, 32.22687653226211, 64.34972999931485, 45.871543169687286, 57.50454414280567, 45.8597184908747, 69.13208533554499, 30.261672388890066, 38.04304903503938, 37.03380978812801, 38.99655027606848, 72.00102193284745, 65.30364131355348, 65.11659007529646, 211.74551761651492, 60.41543575982311, 90.23252588154875, 46.768635394386315, 133.5443045660955, 64.19058005131984, 104.73422002673061, 218.3348002273848, 161.16678216597586, 67.8458450014655, 65.04277611629288, 114.1963900457451, 171.94977091241643, 84.32432089728063, 180.32856442235385, 156.03406217381234, 184.00586465348644, 162.14591532001225, 271.12505357400676, 122.59422428213355, 100.46880518940702, 149.67120443957486, 170.22425014395913, 171.66481504386556, 385.40859436026005, 219.89457168443244, 107.05290759520216, 283.76274224210727, 205.45092182515518, 229.12451510965792, 142.96220750085564, 178.0019537263939, 68.17396046954293, 145.81671292148147, 85.21770191761127, 76.70249114600689, 71.96322997310268, 58.70734921556542, 49.24062681579784, 78.59650100321537, 40.71943482608287, 71.97177584357328, 36.93351740047042, 35.040900419170576, 30.306035669833236, 35.98796671709892, 30.30661970184759, 89.02634319856399, 30.30842939792854, 50.19812527456215, 31.255086225027455, 29.36215571208166, 23.67831071054403, 24.626406930381286, 25.57401605759753, 19.892108246380516, 23.682215309769553, 18.945044496375967, 193.2927238615461, 39.77819100255189, 192.51679686315228, 385.40859436026005, 64.46322571180124, 177.55698205766808, 125.52284005409611, 87.56529345835011, 113.6224396931818, 222.4164913501196, 71.58307131230642, 187.63634162308654, 85.95219166688014, 109.91346688125837, 171.66481504386556, 154.23578802354518, 134.27510234300124, 219.89457168443244, 255.83734782973005, 114.78214651670926, 167.29196161625325, 211.74551761651492, 134.0391285002472, 74.16165073057614, 105.5425580251226, 68.45749120359281, 60.849726140762854, 45.642235437369884, 209.21905854238938, 53.25076571557163, 43.741605667414596, 39.938426506966174, 339.5890072425387, 38.03812792568696, 52.30953902901247, 28.528446039630015, 24.725363797170058, 51.365063037337706, 37.09611342096184, 32.33368834721476, 20.92260813233775, 21.87456357875097, 30.44316775960238, 18.07016009882956, 18.07165187420387, 20.92737513745526, 16.170250479828912, 115.04798437766895, 18.068849910985353, 17.121149154618944, 49.4957186310076, 15.220868387443968, 16.172358320590867, 68.54976889501997, 32.36279518577514, 46.64733137432439, 33.30232629943351, 37.10792227948062, 218.4505139700376, 72.48139379678038, 64.82603636062055, 84.9423440197505, 160.14240207295944, 63.03506551532058, 72.65372872343774, 42.87991857333281, 283.76274224210727, 57.17950912425406, 184.71804283926275, 70.9228295093466, 117.8454919267411, 141.51036896701984, 96.0120000545681, 123.43391451471825, 147.91539248807928, 157.2517159560519, 125.20779689775046, 77.74400550416112, 93.63861882674563, 89.48227971737532, 36.56220941369142, 26.939992769591413, 26.93984495735349, 104.8532318821273, 20.203703041839287, 21.16532665862801, 36.55479769254785, 19.240414472038214, 16.352149356467553, 30.77552831724517, 13.467164308548643, 14.427974706734975, 27.88829263304045, 14.427709893070299, 43.328328362487, 11.541383168733708, 11.540908357852295, 9.61832770801218, 23.07577919053564, 9.617860288353258, 9.61755767206381, 8.656279369778625, 8.65538592013564, 7.6940486894403275, 8.654791672481483, 34.61060996683345, 9.616712884716275, 7.693588715882106, 7.6935445346395674, 17.315497619834954, 29.80193330652866, 20.184238673228137, 24.98996764563698, 26.90640367958507, 103.87119524951868, 110.66912078955177, 166.38378247108517, 161.76408060829493, 38.4284382042203, 39.34828475865426, 22.12262402195161, 255.83734782973005, 271.12505357400676, 127.69553086866294, 139.03707417065544, 36.62706182469042, 142.27946743119125, 129.27248381928797, 125.7798314218053, 116.87397161974064, 219.89457168443244, 149.67120443957486, 150.5038669559904, 99.93868406390592, 140.73018342633975, 283.76274224210727, 147.91539248807928, 125.27239379575195, 104.12991248724978, 117.39128098968158, 184.71804283926275, 123.43391451471825, 139.21711973669372, 113.54548255157654, 143.93669925435796, 163.06613667946678, 184.00586465348644], \"Category\": [\"Default\", \"Default\", \"Default\", \"Default\", \"Default\", \"Default\", \"Default\", \"Default\", \"Default\", \"Default\", \"Default\", \"Default\", \"Default\", \"Default\", \"Default\", \"Default\", \"Default\", \"Default\", \"Default\", \"Default\", \"Default\", \"Default\", \"Default\", \"Default\", \"Default\", \"Default\", \"Default\", \"Default\", \"Default\", \"Default\", \"Topic1\", \"Topic1\", \"Topic1\", \"Topic1\", \"Topic1\", \"Topic1\", \"Topic1\", \"Topic1\", \"Topic1\", \"Topic1\", \"Topic1\", \"Topic1\", \"Topic1\", \"Topic1\", \"Topic1\", \"Topic1\", \"Topic1\", \"Topic1\", \"Topic1\", \"Topic1\", \"Topic1\", \"Topic1\", \"Topic1\", \"Topic1\", \"Topic1\", \"Topic1\", \"Topic1\", \"Topic1\", \"Topic1\", \"Topic1\", \"Topic1\", \"Topic1\", \"Topic1\", \"Topic1\", \"Topic1\", \"Topic1\", \"Topic1\", \"Topic1\", \"Topic1\", \"Topic1\", \"Topic1\", \"Topic1\", \"Topic1\", \"Topic1\", \"Topic1\", \"Topic1\", \"Topic1\", \"Topic1\", \"Topic1\", \"Topic1\", \"Topic1\", \"Topic1\", \"Topic1\", \"Topic1\", \"Topic1\", \"Topic1\", \"Topic1\", \"Topic1\", \"Topic1\", \"Topic1\", \"Topic1\", \"Topic1\", \"Topic1\", \"Topic1\", \"Topic1\", \"Topic1\", \"Topic1\", \"Topic1\", \"Topic1\", \"Topic1\", \"Topic1\", \"Topic1\", \"Topic1\", \"Topic1\", \"Topic1\", \"Topic2\", \"Topic2\", \"Topic2\", \"Topic2\", \"Topic2\", \"Topic2\", \"Topic2\", \"Topic2\", \"Topic2\", \"Topic2\", \"Topic2\", \"Topic2\", \"Topic2\", \"Topic2\", \"Topic2\", \"Topic2\", \"Topic2\", \"Topic2\", \"Topic2\", \"Topic2\", \"Topic2\", \"Topic2\", \"Topic2\", \"Topic2\", \"Topic2\", \"Topic2\", \"Topic2\", \"Topic2\", \"Topic2\", \"Topic2\", \"Topic2\", \"Topic2\", \"Topic2\", \"Topic2\", \"Topic2\", \"Topic2\", \"Topic2\", \"Topic2\", \"Topic2\", \"Topic2\", \"Topic2\", \"Topic2\", \"Topic2\", \"Topic2\", \"Topic2\", \"Topic2\", \"Topic2\", \"Topic2\", \"Topic2\", \"Topic2\", \"Topic2\", \"Topic2\", \"Topic2\", \"Topic3\", \"Topic3\", \"Topic3\", \"Topic3\", \"Topic3\", \"Topic3\", \"Topic3\", \"Topic3\", \"Topic3\", \"Topic3\", \"Topic3\", \"Topic3\", \"Topic3\", \"Topic3\", \"Topic3\", \"Topic3\", \"Topic3\", \"Topic3\", \"Topic3\", \"Topic3\", \"Topic3\", \"Topic3\", \"Topic3\", \"Topic3\", \"Topic3\", \"Topic3\", \"Topic3\", \"Topic3\", \"Topic3\", \"Topic3\", \"Topic3\", \"Topic3\", \"Topic3\", \"Topic3\", \"Topic3\", \"Topic3\", \"Topic3\", \"Topic3\", \"Topic3\", \"Topic3\", \"Topic3\", \"Topic3\", \"Topic3\", \"Topic3\", \"Topic3\", \"Topic3\", \"Topic3\", \"Topic3\", \"Topic3\", \"Topic3\", \"Topic3\", \"Topic3\", \"Topic3\", \"Topic3\", \"Topic3\", \"Topic3\", \"Topic4\", \"Topic4\", \"Topic4\", \"Topic4\", \"Topic4\", \"Topic4\", \"Topic4\", \"Topic4\", \"Topic4\", \"Topic4\", \"Topic4\", \"Topic4\", \"Topic4\", \"Topic4\", \"Topic4\", \"Topic4\", \"Topic4\", \"Topic4\", \"Topic4\", \"Topic4\", \"Topic4\", \"Topic4\", \"Topic4\", \"Topic4\", \"Topic4\", \"Topic4\", \"Topic4\", \"Topic4\", \"Topic4\", \"Topic4\", \"Topic4\", \"Topic4\", \"Topic4\", \"Topic4\", \"Topic4\", \"Topic4\", \"Topic4\", \"Topic4\", \"Topic4\", \"Topic4\", \"Topic4\", \"Topic4\", \"Topic4\", \"Topic4\", \"Topic4\", \"Topic4\", \"Topic4\", \"Topic4\", \"Topic4\", \"Topic4\", \"Topic4\", \"Topic4\", \"Topic4\", \"Topic4\", \"Topic4\", \"Topic4\", \"Topic4\", \"Topic4\", \"Topic4\", \"Topic4\", \"Topic4\", \"Topic4\", \"Topic4\", \"Topic4\", \"Topic4\", \"Topic4\", \"Topic4\", \"Topic4\"], \"logprob\": [30.0, 29.0, 28.0, 27.0, 26.0, 25.0, 24.0, 23.0, 22.0, 21.0, 20.0, 19.0, 18.0, 17.0, 16.0, 15.0, 14.0, 13.0, 12.0, 11.0, 10.0, 9.0, 8.0, 7.0, 6.0, 5.0, 4.0, 3.0, 2.0, 1.0, -5.9975, -6.0967, -5.9816, -6.6308, -6.9078, -6.3882, -6.784, -7.0089, -7.2401, -7.2416, -7.1257, -7.3112, -7.3151, -7.3844, -6.5284, -7.4599, -5.9511, -7.4648, -7.3917, -7.5474, -6.7759, -7.5531, -6.7806, -6.9032, -7.3307, -7.2087, -7.6445, -7.4779, -7.7416, -6.7485, -6.4902, -6.6439, -6.1927, -6.5393, -6.5899, -5.9507, -6.2672, -6.0628, -6.2715, -5.9351, -6.6728, -6.4692, -6.4936, -6.4495, -5.9118, -6.0148, -6.0507, -5.104, -6.1124, -5.8202, -6.3214, -5.5535, -6.0962, -5.7647, -5.2655, -5.5214, -6.0953, -6.125, -5.7692, -5.5281, -5.9955, -5.5676, -5.6889, -5.6432, -5.7111, -5.5342, -5.865, -6.006, -5.9277, -5.9021, -5.9328, -5.861, -5.9417, -6.0369, -6.0234, -4.5896, -4.4807, -4.9525, -4.7359, -5.6989, -4.9387, -5.4761, -5.5832, -5.6471, -5.8515, -6.0291, -5.5625, -6.2222, -5.6539, -6.3227, -6.3773, -6.5235, -6.3521, -6.5245, -5.4486, -6.5279, -6.024, -6.4985, -6.5616, -6.7775, -6.7391, -6.7035, -6.9585, -6.7848, -7.0082, -4.6999, -6.2746, -4.763, -4.1254, -5.8251, -4.8659, -5.3499, -5.6657, -5.5536, -5.1376, -5.9295, -5.2872, -5.818, -5.6783, -5.4163, -5.5055, -5.6558, -5.4664, -5.4179, -5.7391, -5.6522, -5.662, -5.7312, -5.4743, -5.1218, -5.5558, -5.6739, -5.9682, -4.4461, -5.8147, -6.0119, -6.104, -3.9644, -6.1552, -5.8389, -6.448, -6.5936, -5.8626, -6.1886, -6.3278, -6.7658, -6.7221, -6.395, -6.9183, -6.9205, -6.7776, -7.0369, -5.0757, -6.9291, -6.9831, -5.9235, -7.1037, -7.0436, -5.6031, -6.3546, -5.9939, -6.3387, -6.2358, -4.5428, -5.6081, -5.7135, -5.4977, -4.9475, -5.8051, -5.7081, -6.1344, -4.7492, -5.9752, -5.287, -5.879, -5.6212, -5.5348, -5.7349, -5.6712, -5.6091, -5.5897, -5.7234, -5.9514, -5.9477, -5.1426, -6.0521, -6.3589, -6.3595, -5.0034, -6.6557, -6.6106, -6.0643, -6.7099, -6.8848, -6.2547, -7.0817, -7.0153, -6.3588, -7.0218, -5.924, -7.2517, -7.2554, -7.4405, -6.5676, -7.4444, -7.445, -7.5545, -7.5604, -7.6811, -7.5652, -6.1793, -7.4607, -7.6841, -7.685, -6.8741, -6.3535, -6.7379, -6.5313, -6.4611, -5.2228, -5.1735, -4.8797, -4.9135, -6.2181, -6.2003, -6.709, -4.6972, -4.7104, -5.3451, -5.3365, -6.3243, -5.3753, -5.4427, -5.5586, -5.6232, -5.2644, -5.4892, -5.5052, -5.7406, -5.598, -5.2943, -5.607, -5.6985, -5.7973, -5.7485, -5.5838, -5.7467, -5.7166, -5.8755, -5.8583, -5.8693, -5.8688], \"loglift\": [30.0, 29.0, 28.0, 27.0, 26.0, 25.0, 24.0, 23.0, 22.0, 21.0, 20.0, 19.0, 18.0, 17.0, 16.0, 15.0, 14.0, 13.0, 12.0, 11.0, 10.0, 9.0, 8.0, 7.0, 6.0, 5.0, 4.0, 3.0, 2.0, 1.0, 1.236, 1.234, 1.2336, 1.2247, 1.224, 1.2237, 1.2201, 1.2183, 1.2106, 1.209, 1.2072, 1.2042, 1.2004, 1.2001, 1.1988, 1.1987, 1.195, 1.194, 1.193, 1.1915, 1.1899, 1.186, 1.1854, 1.1854, 1.1852, 1.1823, 1.1817, 1.1813, 1.1799, 1.1799, 1.1787, 1.179, 1.1603, 1.1587, 1.1385, 1.0862, 1.1081, 1.0865, 1.1041, 1.03, 1.1185, 1.0932, 1.0957, 1.0882, 1.0127, 1.0074, 0.9743, 0.7418, 0.9875, 0.8786, 1.0346, 0.7533, 0.9431, 0.785, 0.5497, 0.5973, 0.8886, 0.9012, 0.6941, 0.5259, 0.771, 0.4388, 0.4622, 0.343, 0.4016, 0.0644, 0.5273, 0.5853, 0.265, 0.162, 0.1228, -0.6141, -0.1337, 0.491, -0.4703, 1.2864, 1.2862, 1.2861, 1.2835, 1.2802, 1.2801, 1.2799, 1.278, 1.2779, 1.2772, 1.2754, 1.2744, 1.2723, 1.271, 1.2693, 1.2674, 1.2663, 1.2659, 1.2653, 1.2637, 1.2619, 1.2612, 1.2605, 1.2599, 1.2591, 1.2583, 1.2561, 1.2524, 1.2517, 1.2515, 1.237, 1.2433, 1.178, 1.1215, 1.21, 1.156, 1.0188, 1.0631, 0.9147, 0.659, 1.0008, 0.6795, 0.9294, 0.8232, 0.6394, 0.6572, 0.6455, 0.3417, 0.2387, 0.719, 0.4293, 0.1837, 0.5718, 1.4207, 1.4203, 1.4192, 1.4189, 1.4122, 1.4117, 1.4114, 1.411, 1.4098, 1.409, 1.4074, 1.4051, 1.4023, 1.3997, 1.3996, 1.3991, 1.3972, 1.3945, 1.3937, 1.3903, 1.3887, 1.3863, 1.3825, 1.3811, 1.3801, 1.3779, 1.3778, 1.3758, 1.3748, 1.3743, 1.3705, 1.3696, 1.3646, 1.3569, 1.3516, 1.2719, 1.3098, 1.316, 1.2616, 1.1776, 1.2523, 1.2074, 1.3084, 0.8038, 1.1797, 0.6954, 1.0605, 0.8106, 0.714, 0.9018, 0.7143, 0.5955, 0.5537, 0.6478, 0.8963, 0.714, 1.5646, 1.5501, 1.5486, 1.5481, 1.5452, 1.5396, 1.5382, 1.5381, 1.5343, 1.522, 1.5198, 1.5192, 1.5167, 1.5141, 1.5102, 1.5084, 1.5036, 1.4999, 1.497, 1.4948, 1.4932, 1.4926, 1.4884, 1.4826, 1.4796, 1.4778, 1.4778, 1.4769, 1.4767, 1.4758, 1.4755, 1.4531, 1.4584, 1.4515, 1.4477, 1.3352, 1.3211, 1.2071, 1.2015, 1.3343, 1.3284, 1.3956, 0.9594, 0.8882, 1.0065, 0.9299, 1.2761, 0.8681, 0.8965, 0.808, 0.8169, 0.5436, 0.7035, 0.682, 0.8561, 0.6564, 0.2587, 0.5975, 0.6722, 0.7582, 0.6872, 0.3986, 0.6388, 0.5486, 0.5935, 0.3735, 0.2377, 0.1174]}, \"token.table\": {\"Topic\": [1, 3, 4, 1, 4, 4, 3, 2, 4, 3, 1, 2, 4, 4, 2, 4, 3, 1, 2, 3, 3, 3, 2, 4, 2, 4, 1, 2, 2, 4, 2, 2, 2, 4, 1, 2, 4, 4, 4, 2, 1, 2, 3, 4, 1, 1, 3, 2, 3, 1, 1, 2, 1, 2, 3, 4, 4, 4, 4, 1, 2, 4, 2, 1, 2, 2, 4, 3, 3, 4, 1, 2, 2, 4, 2, 4, 2, 4, 2, 4, 2, 2, 2, 3, 4, 2, 2, 4, 1, 2, 4, 2, 2, 2, 1, 2, 3, 4, 2, 4, 2, 4, 1, 3, 2, 4, 3, 3, 3, 4, 4, 2, 1, 1, 2, 4, 4, 2, 3, 4, 4, 1, 3, 3, 1, 4, 3, 4, 4, 4, 1, 2, 4, 1, 3, 1, 2, 1, 1, 1, 2, 3, 4, 1, 1, 2, 3, 4, 1, 3, 4, 1, 2, 3, 4, 1, 2, 3, 4, 1, 2, 1, 2, 3, 4, 1, 3, 4, 1, 3, 4, 1, 3, 1, 3, 1, 3, 4, 1, 2, 3, 4, 1, 2, 3, 4, 1, 2, 3, 4, 1, 1, 2, 3, 1, 2, 1, 2, 3, 4, 1, 2, 4, 1, 1, 2, 3, 4, 1, 3, 1, 3, 1, 1, 2, 3, 4, 1, 2, 3, 4, 1, 2, 3, 4, 1, 2, 3, 4, 1, 3, 1, 2, 3, 4, 1, 2, 3, 4, 4, 1, 2, 3, 4, 1, 2, 3, 4, 3, 4, 1, 2, 1, 2, 3, 4, 1, 2, 3, 4, 1, 2, 3, 4, 1, 2, 3, 4, 1, 2, 3, 4, 1, 2, 3, 4, 1, 2, 3, 4, 1, 2, 3, 4, 1, 2, 3, 4, 1, 2, 3, 4, 3, 1, 2, 1, 2, 3, 4, 1, 1, 2, 3, 4, 1, 2, 3, 4, 1, 2, 3, 4, 1, 2, 3, 4, 1, 2, 3, 4, 1, 1, 2, 3, 4, 1, 1, 2, 3, 4, 1, 2, 3, 4, 1, 2, 3, 4, 3, 1, 3, 4, 3, 4, 3, 4, 3, 4, 1, 2, 3, 4, 1, 2, 3, 4, 1, 2, 3, 4, 1, 2, 3, 4, 1, 3, 4, 1, 2, 3, 4, 4, 4, 1, 2, 3, 4, 3, 3, 1, 3, 4, 1, 2, 3, 4, 1, 2, 3, 4, 1, 2, 3, 4, 1, 2, 3, 4, 1, 2, 3, 4, 1, 3, 4, 1, 2, 3, 4, 1, 2, 3, 4, 1, 2, 3, 4, 1, 2, 3, 4, 1, 3, 1, 2, 3, 4, 1, 3, 1, 2, 3, 4, 1, 2, 3, 4, 1, 2, 3, 4, 1, 2, 3, 4, 3, 1, 3, 3, 1, 2, 1, 2, 3, 4, 1, 2, 3, 4, 1, 2, 3, 4, 1, 2, 3, 4, 1, 2, 3, 4, 1, 2, 3, 4, 1, 3, 4, 1, 3, 4, 1, 2, 3, 4, 1, 3, 4, 1, 2, 4, 1, 3, 4, 3, 4, 1, 2, 3, 4, 1, 2, 3, 4, 1, 2, 3, 4, 1, 2, 3, 4, 1, 2, 3, 4, 3, 3, 1, 2, 3, 4, 1, 2, 3, 4, 1, 2, 3, 4, 1, 2, 3, 4, 1, 1, 3, 1, 2, 3, 4, 1, 2, 3, 4, 1, 1, 1, 3, 4, 2, 3, 4, 1, 2, 3, 4, 1, 2, 3, 4, 1, 2, 3, 4, 1, 2, 3, 4, 1, 3, 4, 3, 3, 4, 3, 1, 2, 3, 4, 1, 2, 3, 4, 3, 4, 1, 2, 3, 4, 1, 2, 3, 4, 1, 1, 2, 3, 4, 1, 2, 3, 4], \"Freq\": [0.009474850891542416, 0.9853844927204112, 0.9097940866435025, 0.04615917750779348, 0.9231835501558695, 0.9242799886471881, 0.9275085119095955, 0.988753192397702, 0.005617915865896034, 0.9843362341704565, 0.004867342483140716, 0.9929378665607062, 0.004867342483140716, 0.9357885137660641, 0.9598437765939534, 0.03199479255313178, 0.955903770385501, 0.008692025378882709, 0.034768101515530836, 0.9474307662982153, 0.9765031677749625, 0.98147652210373, 0.9796873781550396, 0.012723212703312203, 0.9866149702638041, 0.013895985496673298, 0.9647617094112978, 0.018916896262966623, 0.9875411200466456, 0.006857924444768373, 0.9568295215581852, 0.9711929268083244, 0.011175396996572315, 0.9834349356983638, 0.004364439132675981, 0.9907276831174475, 0.004364439132675981, 0.9530920028545324, 0.9173106038239093, 0.9551526547447358, 0.15308428733389853, 0.8406662558675106, 0.002594648937862687, 0.005189297875725374, 0.9495597082807956, 0.9589830003306614, 0.020847456528927423, 0.9536084569049141, 0.9727082277099679, 0.9583789444900063, 0.9666766471239404, 0.027619332774969727, 0.15274237228514212, 0.025457062047523685, 0.5345983029979974, 0.28002768252276056, 0.9098537050748275, 0.9653108629370403, 0.9651079056467887, 0.9514302592174259, 0.9745636084000344, 0.9010439006847487, 0.9569050969232089, 0.902876226755686, 0.060191748450379064, 0.9932694974589709, 0.006994855615908246, 0.9860356620373739, 0.02735619024377373, 0.9574666585320806, 0.9658718435261252, 0.018574458529348564, 0.9660062056933637, 0.022465260597520086, 0.9562110086275264, 0.019921062679740132, 0.9726034849013754, 0.013894335498591077, 0.9725473038011478, 0.027787065822889936, 0.9823319054118592, 0.987951266323265, 0.009537140458619038, 0.019074280917238076, 0.9632511863205229, 0.9747243840777935, 0.9568866566214926, 0.9572725653415677, 0.005173500481664748, 0.9415770876629842, 0.05173500481664749, 0.970294701142979, 0.982779928561325, 0.9713530784000577, 0.005194351954187329, 0.8882341841660332, 0.005194351954187329, 0.10388703908374657, 0.9857106928465573, 0.011734651105316159, 0.9501165332941421, 0.935870718809084, 0.01911697213476436, 0.9749655788729823, 0.9748048126917871, 0.9357135952544947, 0.9787095440109217, 0.9859289223848127, 0.7743108533085866, 0.21855548278871398, 0.9531312145387354, 0.977554715837171, 0.9402110137203953, 0.05775173327126892, 0.05775173327126892, 0.9240277323403027, 0.9355307821543611, 0.9552973386236238, 0.0251394036479901, 0.0251394036479901, 0.9098484801442128, 0.026957001900768707, 0.9704520684276735, 0.9830457602984827, 0.9208845679259988, 0.924343450742617, 0.03585734032406334, 0.9322908484256469, 0.9404216623385044, 0.9651132009541521, 0.9342181546682123, 0.0444865787937244, 0.944941711629432, 0.15864185938808162, 0.8408018547568326, 0.013037386205572538, 0.9778039654179403, 0.9439560633101827, 0.9301518560853691, 0.5990521292535195, 0.26957345816408373, 0.04492890969401395, 0.08236966777235892, 0.9497820560288092, 0.12226954646020555, 0.3164623555440614, 0.043153957574190195, 0.5250398171526474, 0.033554870072168494, 0.06710974014433699, 0.8724266218763809, 0.232687493036976, 0.698062479110928, 0.0116343746518488, 0.058171873259244, 0.09939538618832604, 0.027107832596816192, 0.09939538618832604, 0.7680552569097922, 0.9096951189549893, 0.07580792657958244, 0.3202380728048745, 0.5213177929381677, 0.0297895881678953, 0.126605749713555, 0.06996281942255628, 0.8861957126857127, 0.04664187961503751, 0.25379698081035895, 0.6908917810948662, 0.05639932906896866, 0.040407535344825954, 0.94957708060341, 0.019468485793020275, 0.9734242896510138, 0.16381330363647625, 0.08190665181823813, 0.7371598663641431, 0.1836946306050149, 0.27154858437263074, 0.45524321497764564, 0.07986723069783257, 0.6048077168878178, 0.16602564777312645, 0.07115384904562562, 0.15416667293218886, 0.19011657175564195, 0.15009203033340152, 0.18011043640008184, 0.4802944970668849, 0.9445286151271888, 0.9360451548787907, 0.01733416953479242, 0.05200250860437726, 0.9051700072711528, 0.03935521770744142, 0.4577176005838449, 0.28023526566357854, 0.11209410626543141, 0.14945880835390854, 0.23748631748184568, 0.7403985192081071, 0.01396978338128504, 0.9709248722099484, 0.6760311695150454, 0.12190726007648359, 0.14407221645402604, 0.04432991275508494, 0.030899679531993688, 0.9269903859598106, 0.9442750685773437, 0.03934479452405599, 0.9378020691238743, 0.031025440907060615, 0.9152505067582882, 0.015512720453530308, 0.031025440907060615, 0.13704059594921275, 0.7879834267079733, 0.011420049662434395, 0.05710024831217198, 0.24557222848363275, 0.38654887816868116, 0.01364290158242404, 0.35471544114302506, 0.6206185522115932, 0.06683584408432541, 0.18141157680031186, 0.13367168816865083, 0.043763823691285196, 0.9336282387474176, 0.8504195246588863, 0.043611257674814684, 0.06541688651222202, 0.043611257674814684, 0.7911284921612476, 0.042763702278986356, 0.08552740455797271, 0.08552740455797271, 0.9703371598970716, 0.752496405959521, 0.12285655607502384, 0.10749948656564585, 0.01535706950937798, 0.12621422405545724, 0.12621422405545724, 0.060102011454979634, 0.6851629305867678, 0.032493349576054126, 0.9423071377055696, 0.6927469176481592, 0.294785922403472, 0.846228698856256, 0.07692988171420509, 0.07692988171420509, 0.025643293904735028, 0.4812624766418009, 0.21208176936757328, 0.15498283146091893, 0.15498283146091893, 0.15900800449421482, 0.08745440247181815, 0.2941648083142974, 0.461123213033223, 0.307308430744319, 0.09603388460759969, 0.1536542153721595, 0.4417558691949586, 0.2376291168620295, 0.6864841153791964, 0.06160754881608173, 0.01760215680459478, 0.5903312684350808, 0.33058551032364525, 0.033058551032364526, 0.04722650147480646, 0.3674721547537526, 0.10690099047381894, 0.11358230237843263, 0.4142413380860484, 0.5149944603009033, 0.3660803994910036, 0.01861425760123747, 0.10548079307367901, 0.8688400184228027, 0.03103000065795724, 0.06206000131591448, 0.03103000065795724, 0.06995513010277495, 0.06995513010277495, 0.7695064311305244, 0.08744391262846868, 0.9197898335123186, 0.929813678137504, 0.030993789271250134, 0.8411523474505564, 0.05257202171565978, 0.02628601085782989, 0.05257202171565978, 0.9376110441678912, 0.11910043903585464, 0.09744581375660835, 0.47640175614341856, 0.30857841022925975, 0.4193753500715374, 0.15418211399688875, 0.16651668311663986, 0.2590259515147731, 0.32039180530935146, 0.5184521940460415, 0.040777138857553824, 0.12233141657266146, 0.761394822721621, 0.0165520613635135, 0.066208245454054, 0.165520613635135, 0.24529924369660241, 0.3434189411752434, 0.14717954621796145, 0.2636966869738476, 0.9544059266715115, 0.7955784891060009, 0.08679038062974555, 0.08679038062974555, 0.043395190314872774, 0.9584165117253644, 0.0288928742070214, 0.0288928742070214, 0.0577857484140428, 0.8956791004176634, 0.06373342091807571, 0.756834373402149, 0.03983338807379732, 0.14340019706567034, 0.9063376073144113, 0.0292366970101423, 0.0292366970101423, 0.0292366970101423, 0.9556860269687875, 0.27011728896417625, 0.578822762066092, 0.1414900085050447, 0.11149762100225294, 0.8919809680180235, 0.09908721514736889, 0.89178493632632, 0.9162463946088625, 0.0538968467416978, 0.23703981279324032, 0.36633425613500775, 0.03591512315049095, 0.3591512315049096, 0.2554042604630011, 0.017614086928482833, 0.34347469510541523, 0.3698958254981395, 0.49007304327374673, 0.16946451029092177, 0.1603042664914125, 0.17862475409043108, 0.31265503198203565, 0.06395216563268911, 0.23449127398652675, 0.3979245861589545, 0.05204479009454918, 0.15613437028364754, 0.7806718514182377, 0.3967264855251821, 0.33151117283611103, 0.04347687512604735, 0.23368820380250452, 0.9241845899671548, 0.9357590701227533, 0.2852774998840288, 0.5251699429683258, 0.0713193749710072, 0.11670443177073905, 0.9765117797131341, 0.9706631698881988, 0.09255540423021731, 0.8947022408921006, 0.015425900705036218, 0.1673720585823991, 0.41843014645599774, 0.21519264674879884, 0.19725992618639893, 0.47688345011966987, 0.15702259942964739, 0.16865390309110276, 0.19773216224474116, 0.8391643601391172, 0.07770040371658493, 0.04662024222995096, 0.04662024222995096, 0.8347166422326161, 0.10433958027907701, 0.03477986009302567, 0.017389930046512837, 0.6918523883350626, 0.1998684677412403, 0.030748995037113893, 0.07687248759278473, 0.04520259436709363, 0.09040518873418726, 0.8136466986076853, 0.22926745000372697, 0.2778999393984569, 0.19452995757891986, 0.29874243485334123, 0.21780390730330745, 0.5575780026964671, 0.043560781460661495, 0.17424312584264598, 0.7656540890258553, 0.03062616356103421, 0.04593924534155132, 0.15313081780517104, 0.8502003051375843, 0.021800007824040624, 0.0872000312961625, 0.06540002347212187, 0.9209111366118123, 0.06821563974902313, 0.30244346259803373, 0.06639002837517813, 0.13278005675035626, 0.5016135477235681, 0.03284809281007165, 0.9525946914920778, 0.1762035410460611, 0.02466849574644855, 0.5321346939591045, 0.26782938239001286, 0.19679578863718528, 0.14056842045513235, 0.17571052556891542, 0.4919894715929632, 0.438089219270727, 0.2550899251449803, 0.12199952941716449, 0.18854472728107238, 0.04001605821104738, 0.04001605821104738, 0.04001605821104738, 0.8803532806430423, 0.9407774976548837, 0.9548496575717137, 0.06820354696940813, 0.9408457142402006, 0.8370729389536834, 0.13501176434736828, 0.5604380311353336, 0.17513688472979178, 0.12259581931085424, 0.1401095077838334, 0.23654972168322466, 0.6277665690824039, 0.05458839731151338, 0.08188259596727007, 0.44861999376792683, 0.3909402802834791, 0.04486199937679268, 0.11535942696889546, 0.09771833632608831, 0.34787727732087437, 0.01954366726521766, 0.535496483066964, 0.06481200917472386, 0.056710508027883376, 0.48609006881042893, 0.38887205504834316, 0.08556225018634471, 0.10267470022361365, 0.34224900074537884, 0.46203615100626144, 0.11772691365421745, 0.8476337783103656, 0.03531807409626524, 0.04287490711849895, 0.9432479566069768, 0.021437453559249475, 0.77776673853642, 0.11110953407663142, 0.06944345879789464, 0.027777383519157855, 0.09613161177034509, 0.8514514185373422, 0.05035465378446647, 0.8953139367807451, 0.042633996989559296, 0.06395099548433894, 0.009559358568640078, 0.979834253285608, 0.009559358568640078, 0.9587523596784576, 0.030927495473498632, 0.07321593242544401, 0.8673271995014136, 0.033791968811743386, 0.022527979207828924, 0.1461756461475713, 0.2259078167735193, 0.21926346922135695, 0.40530520068190223, 0.15454605191702891, 0.01854552623004347, 0.14836420984034776, 0.6861844705116084, 0.14951096220143345, 0.22426644330215018, 0.4912503043761385, 0.14951096220143345, 0.006760621617392467, 0.18929740528698907, 0.43267978351311787, 0.37183418895658565, 0.9406998385281212, 0.9276294154324508, 0.5076202499258666, 0.22892677937833203, 0.09953338233840522, 0.15925341174144836, 0.09893267964881651, 0.13426577952339383, 0.4875967782691671, 0.27559817902170314, 0.903056079723482, 0.030101869324116067, 0.030101869324116067, 0.030101869324116067, 0.7166160511904298, 0.04673582942546281, 0.12462887846790083, 0.10905026865941322, 0.9543142873834984, 0.11037315345273285, 0.8829852276218628, 0.017037040427012595, 0.3492593287537582, 0.23000004576467, 0.40888897024830223, 0.13312916970825545, 0.1879470631175371, 0.11746691444846068, 0.5638411893526113, 0.9441340745818402, 0.9656051529022157, 0.17893094034423954, 0.7983072723050687, 0.013763918488018426, 0.025414068392906507, 0.17789847875034553, 0.7878361201801016, 0.22381524212867943, 0.4849330246121388, 0.08206558878051579, 0.20889422598676746, 0.08780865174441183, 0.35921721168168474, 0.15166948937671135, 0.39913023520187196, 0.28121484798415447, 0.010415364740153869, 0.5832604254486167, 0.12498437688184642, 0.8591726083699641, 0.0330451003219217, 0.0660902006438434, 0.0660902006438434, 0.020613152518804925, 0.9747076405320614, 0.002944736074114989, 0.9600191530403595, 0.930865901717122, 0.06005586462691109, 0.9345167112035537, 0.08664577295351479, 0.09627308105946089, 0.028881924317838266, 0.7798119565816332, 0.22916669355223312, 0.5382752569482685, 0.026647289947934086, 0.20251940360429904, 0.04333548140424842, 0.9100451094892169, 0.3289778040005501, 0.24673335300041258, 0.19973652385747687, 0.22323493842894473, 0.2607284744126959, 0.19077693249709457, 0.41335002041037155, 0.13990308383120267, 0.9754067470632606, 0.08509158078355694, 0.3171595283750759, 0.09282717903660757, 0.5028138864482911, 0.14837029304653787, 0.5305361993785294, 0.16185850150531403, 0.16185850150531403], \"Term\": [\"Ahab\", \"Ahab\", \"Amsterdam\", \"Arthur\", \"Arthur\", \"Arthur Holmwood\", \"Bedford\", \"Bennet\", \"Bennet\", \"Bildad\", \"Bingley\", \"Bingley\", \"Bingley\", \"Bistritz\", \"Bourgh\", \"Bourgh\", \"Cape\", \"Captain\", \"Captain\", \"Captain\", \"Captain_Ahab\", \"Captain_Peleg\", \"Catherine\", \"Catherine\", \"Charlotte\", \"Charlotte\", \"Clerval\", \"Clerval\", \"Collins\", \"Collins\", \"Colonel\", \"Colonel_Fitzwilliam\", \"Count\", \"Count\", \"Darcy\", \"Darcy\", \"Darcy\", \"Diary\", \"Dracula\", \"Eliza\", \"Elizabeth\", \"Elizabeth\", \"Elizabeth\", \"Elizabeth\", \"Ernest\", \"Felix\", \"Felix\", \"Fitzwilliam\", \"Flask\", \"Frankenstein\", \"Geneva\", \"Geneva\", \"God\", \"God\", \"God\", \"God\", \"Harker\", \"Hawkins\", \"Helsing\", \"Henry\", \"Hertfordshire\", \"Holmwood\", \"Hurst\", \"Ingolstadt\", \"Ingolstadt\", \"Jane\", \"Jane\", \"Jonah\", \"Jonathan\", \"Jonathan\", \"Justine\", \"Justine\", \"Lady\", \"Lady\", \"Lady Catherine\", \"Lady Catherine\", \"Lady_Catherine\", \"Lady_Catherine\", \"Lizzy\", \"Lizzy\", \"Longbourn\", \"Lucas\", \"Lucy\", \"Lucy\", \"Lucy\", \"Lydia\", \"Meryton\", \"Mina\", \"Miss\", \"Miss\", \"Miss\", \"Miss_Bennet\", \"Miss_Bingley\", \"Miss_Lucas\", \"Mrs\", \"Mrs\", \"Mrs\", \"Mrs\", \"Mrs_Bennet\", \"Mrs_Bennet\", \"Mrs_Hurst\", \"Murray\", \"Nantucket\", \"Nantucket\", \"Netherfield\", \"Pass\", \"Peleg\", \"Pequod\", \"Queequeg\", \"Queequeg\", \"Renfield\", \"Rosings\", \"Safie\", \"September\", \"September\", \"September\", \"Seward\", \"Sir_William\", \"Sir_William\", \"Sir_William\", \"Slovaks\", \"Starbuck\", \"Starbuck\", \"Stubb\", \"Switzerland\", \"Transylvania\", \"Van\", \"Van\", \"Van Helsing\", \"Van_Helsing\", \"Victor\", \"Victor\", \"Westenra\", \"Whale\", \"Whale\", \"Wickham\", \"Wickham\", \"abhor\", \"accent\", \"appear\", \"appear\", \"appear\", \"appear\", \"ardour\", \"ask\", \"ask\", \"ask\", \"ask\", \"asleep\", \"asleep\", \"asleep\", \"attention\", \"attention\", \"attention\", \"attention\", \"bed\", \"bed\", \"bed\", \"bed\", \"beheld\", \"beheld\", \"believe\", \"believe\", \"believe\", \"believe\", \"board\", \"board\", \"board\", \"boat\", \"boat\", \"boat\", \"cabin\", \"cabin\", \"captain\", \"captain\", \"castle\", \"castle\", \"castle\", \"chapter\", \"chapter\", \"chapter\", \"chapter\", \"child\", \"child\", \"child\", \"child\", \"close\", \"close\", \"close\", \"close\", \"contemplate\", \"cottage\", \"cottage\", \"cottage\", \"cottager\", \"cottager\", \"country\", \"country\", \"country\", \"country\", \"cousin\", \"cousin\", \"cousin\", \"creator\", \"creature\", \"creature\", \"creature\", \"creature\", \"crew\", \"crew\", \"crime\", \"crime\", \"daemon\", \"dance\", \"dance\", \"dance\", \"dance\", \"daughter\", \"daughter\", \"daughter\", \"daughter\", \"dear\", \"dear\", \"dear\", \"dear\", \"death\", \"death\", \"death\", \"death\", \"deck\", \"deck\", \"despair\", \"despair\", \"despair\", \"despair\", \"destroy\", \"destroy\", \"destroy\", \"destroy\", \"diary\", \"discover\", \"discover\", \"discover\", \"discover\", \"door\", \"door\", \"door\", \"door\", \"driver\", \"driver\", \"endeavour\", \"endeavour\", \"endure\", \"endure\", \"endure\", \"endure\", \"enter\", \"enter\", \"enter\", \"enter\", \"face\", \"face\", \"face\", \"face\", \"fall\", \"fall\", \"fall\", \"fall\", \"family\", \"family\", \"family\", \"family\", \"father\", \"father\", \"father\", \"father\", \"fear\", \"fear\", \"fear\", \"fear\", \"feeling\", \"feeling\", \"feeling\", \"feeling\", \"fiend\", \"fiend\", \"fiend\", \"fiend\", \"fish\", \"fish\", \"fish\", \"fish\", \"fishery\", \"forever\", \"forever\", \"gentle\", \"gentle\", \"gentle\", \"gentle\", \"hatred\", \"head\", \"head\", \"head\", \"head\", \"heart\", \"heart\", \"heart\", \"heart\", \"hope\", \"hope\", \"hope\", \"hope\", \"horror\", \"horror\", \"horror\", \"horror\", \"house\", \"house\", \"house\", \"house\", \"hovel\", \"human\", \"human\", \"human\", \"human\", \"inhabit\", \"key\", \"key\", \"key\", \"key\", \"lady\", \"lady\", \"lady\", \"lady\", \"lake\", \"lake\", \"lake\", \"lake\", \"lance\", \"land\", \"land\", \"land\", \"landlord\", \"landlord\", \"later\", \"later\", \"leg\", \"leg\", \"letter\", \"letter\", \"letter\", \"letter\", \"lie\", \"lie\", \"lie\", \"lie\", \"life\", \"life\", \"life\", \"life\", \"light\", \"light\", \"light\", \"light\", \"lock\", \"lock\", \"lock\", \"love\", \"love\", \"love\", \"love\", \"lunatic\", \"lunch\", \"manner\", \"manner\", \"manner\", \"manner\", \"mast\", \"mast_head\", \"mate\", \"mate\", \"mate\", \"mean\", \"mean\", \"mean\", \"mean\", \"mind\", \"mind\", \"mind\", \"mind\", \"miserable\", \"miserable\", \"miserable\", \"miserable\", \"misery\", \"misery\", \"misery\", \"misery\", \"month\", \"month\", \"month\", \"month\", \"moonlight\", \"moonlight\", \"moonlight\", \"morning\", \"morning\", \"morning\", \"morning\", \"mother\", \"mother\", \"mother\", \"mother\", \"mountain\", \"mountain\", \"mountain\", \"mountain\", \"murder\", \"murder\", \"murder\", \"murder\", \"murderer\", \"murderer\", \"night\", \"night\", \"night\", \"night\", \"oil\", \"oil\", \"old\", \"old\", \"old\", \"old\", \"open\", \"open\", \"open\", \"open\", \"pass\", \"pass\", \"pass\", \"pass\", \"patient\", \"patient\", \"patient\", \"patient\", \"pilot\", \"protector\", \"protector\", \"pulpit\", \"reflect\", \"reflect\", \"remain\", \"remain\", \"remain\", \"remain\", \"reply\", \"reply\", \"reply\", \"reply\", \"return\", \"return\", \"return\", \"return\", \"room\", \"room\", \"room\", \"room\", \"round\", \"round\", \"round\", \"round\", \"run\", \"run\", \"run\", \"run\", \"sail\", \"sail\", \"sail\", \"sailor\", \"sailor\", \"sailor\", \"scene\", \"scene\", \"scene\", \"scene\", \"sea\", \"sea\", \"sea\", \"sensation\", \"sensation\", \"sensation\", \"ship\", \"ship\", \"ship\", \"shipmate\", \"shipmate\", \"sister\", \"sister\", \"sister\", \"sister\", \"sit\", \"sit\", \"sit\", \"sit\", \"sleep\", \"sleep\", \"sleep\", \"sleep\", \"small\", \"small\", \"small\", \"small\", \"sort\", \"sort\", \"sort\", \"sort\", \"sperm\", \"sperm_whale\", \"spirit\", \"spirit\", \"spirit\", \"spirit\", \"stand\", \"stand\", \"stand\", \"stand\", \"tale\", \"tale\", \"tale\", \"tale\", \"tear\", \"tear\", \"tear\", \"tear\", \"thirst\", \"thou\", \"thou\", \"till\", \"till\", \"till\", \"till\", \"try\", \"try\", \"try\", \"try\", \"unfortunate\", \"victim\", \"voyage\", \"voyage\", \"voyage\", \"wake\", \"wake\", \"wake\", \"walk\", \"walk\", \"walk\", \"walk\", \"want\", \"want\", \"want\", \"want\", \"water\", \"water\", \"water\", \"water\", \"weep\", \"weep\", \"weep\", \"weep\", \"whale\", \"whale\", \"whale\", \"whale_ship\", \"whaleman\", \"whaleman\", \"whaling\", \"window\", \"window\", \"window\", \"window\", \"wish\", \"wish\", \"wish\", \"wish\", \"wolf\", \"wolf\", \"word\", \"word\", \"word\", \"word\", \"world\", \"world\", \"world\", \"world\", \"wretch\", \"write\", \"write\", \"write\", \"write\", \"young\", \"young\", \"young\", \"young\"]}, \"R\": 30, \"lambda.step\": 0.01, \"plot.opts\": {\"xlab\": \"PC1\", \"ylab\": \"PC2\"}, \"topic.order\": [1, 3, 2, 4]};\n",
       "\n",
       "function LDAvis_load_lib(url, callback){\n",
       "  var s = document.createElement('script');\n",
       "  s.src = url;\n",
       "  s.async = true;\n",
       "  s.onreadystatechange = s.onload = callback;\n",
       "  s.onerror = function(){console.warn(\"failed to load library \" + url);};\n",
       "  document.getElementsByTagName(\"head\")[0].appendChild(s);\n",
       "}\n",
       "\n",
       "if(typeof(LDAvis) !== \"undefined\"){\n",
       "   // already loaded: just create the visualization\n",
       "   !function(LDAvis){\n",
       "       new LDAvis(\"#\" + \"ldavis_el1709220981054117286394267984\", ldavis_el1709220981054117286394267984_data);\n",
       "   }(LDAvis);\n",
       "}else if(typeof define === \"function\" && define.amd){\n",
       "   // require.js is available: use it to load d3/LDAvis\n",
       "   require.config({paths: {d3: \"https://d3js.org/d3.v5\"}});\n",
       "   require([\"d3\"], function(d3){\n",
       "      window.d3 = d3;\n",
       "      LDAvis_load_lib(\"https://cdn.jsdelivr.net/gh/bmabey/pyLDAvis@3.3.1/pyLDAvis/js/ldavis.v3.0.0.js\", function(){\n",
       "        new LDAvis(\"#\" + \"ldavis_el1709220981054117286394267984\", ldavis_el1709220981054117286394267984_data);\n",
       "      });\n",
       "    });\n",
       "}else{\n",
       "    // require.js not available: dynamically load d3 & LDAvis\n",
       "    LDAvis_load_lib(\"https://d3js.org/d3.v5.js\", function(){\n",
       "         LDAvis_load_lib(\"https://cdn.jsdelivr.net/gh/bmabey/pyLDAvis@3.3.1/pyLDAvis/js/ldavis.v3.0.0.js\", function(){\n",
       "                 new LDAvis(\"#\" + \"ldavis_el1709220981054117286394267984\", ldavis_el1709220981054117286394267984_data);\n",
       "            })\n",
       "         });\n",
       "}\n",
       "</script>"
      ],
      "text/plain": [
       "<IPython.core.display.HTML object>"
      ]
     },
     "execution_count": 96,
     "metadata": {},
     "output_type": "execute_result"
    }
   ],
   "source": [
    "# plot topics\n",
    "data =  pyLDAvis.gensim_models.prepare(model, corpus, dictionary)\n",
    "pyLDAvis.display(data)"
   ]
  },
  {
   "cell_type": "code",
   "execution_count": 97,
   "metadata": {},
   "outputs": [],
   "source": [
    "# assignment\n",
    "sent_to_cluster = list()\n",
    "for n,doc in enumerate(corpus):\n",
    "    if doc:\n",
    "        cluster = max(model[doc],key=lambda x:x[1])\n",
    "        sent_to_cluster.append(cluster[0])"
   ]
  },
  {
   "cell_type": "code",
   "execution_count": 98,
   "metadata": {},
   "outputs": [
    {
     "name": "stdout",
     "output_type": "stream",
     "text": [
      "DRACULA.txt : 3 - 55\n",
      "Accuracy: 0.9166666666666666\n",
      "------\n",
      "Frankenstein.txt : 0 - 60\n",
      "Accuracy: 1.0\n",
      "------\n",
      "Moby_Dick.txt : 1 - 52\n",
      "Accuracy: 0.8666666666666667\n",
      "------\n",
      "PRIDE_AND_PREJUDICE.txt : 2 - 60\n",
      "Accuracy: 1.0\n",
      "------\n"
     ]
    }
   ],
   "source": [
    "# accuracy\n",
    "from collections import Counter\n",
    "for book, cluster in book_id.items():\n",
    "    assignments = list()\n",
    "    for real,given in zip(chunk_class,sent_to_cluster):\n",
    "        if real == cluster:\n",
    "            assignments.append(given)\n",
    "    most_common,num_most_common = Counter(assignments).most_common(1)[0] # 4, 6 times\n",
    "    print(book,\":\",most_common,\"-\",num_most_common)\n",
    "    print(\"Accuracy:\",num_most_common/limit)\n",
    "    print(\"------\")"
   ]
  },
  {
   "cell_type": "markdown",
   "metadata": {},
   "source": [
    "# Task 4: Semantic analysis based on lexical categories"
   ]
  },
  {
   "cell_type": "code",
   "execution_count": 100,
   "metadata": {},
   "outputs": [],
   "source": [
    "from empath import Empath\n",
    "lexicon = Empath()"
   ]
  },
  {
   "cell_type": "markdown",
   "metadata": {},
   "source": [
    "### Let's see what pre-build categories we can study! More information: https://hci.stanford.edu/publications/2016/ethan/empath-chi-2016.pdf"
   ]
  },
  {
   "cell_type": "code",
   "execution_count": 113,
   "metadata": {},
   "outputs": [
    {
     "name": "stdout",
     "output_type": "stream",
     "text": [
      "help\n",
      "office\n",
      "dance\n",
      "money\n",
      "wedding\n",
      "domestic_work\n",
      "sleep\n",
      "medical_emergency\n",
      "cold\n",
      "hate\n",
      "cheerfulness\n",
      "aggression\n",
      "occupation\n",
      "envy\n",
      "anticipation\n",
      "family\n",
      "vacation\n",
      "crime\n",
      "attractive\n",
      "masculine\n",
      "196\n"
     ]
    }
   ],
   "source": [
    "for cat in list(lexicon.cats.keys())[:20]:\n",
    "    print(cat)"
   ]
  },
  {
   "cell_type": "markdown",
   "metadata": {},
   "source": [
    "### For each category, we can examine representative terms"
   ]
  },
  {
   "cell_type": "code",
   "execution_count": 112,
   "metadata": {},
   "outputs": [
    {
     "data": {
      "text/plain": [
       "['puppy',\n",
       " 'bark',\n",
       " 'reptile',\n",
       " 'bunny',\n",
       " 'affectionately',\n",
       " 'collar',\n",
       " 'terrier',\n",
       " 'petting',\n",
       " 'snake',\n",
       " 'parrot',\n",
       " 'ferret',\n",
       " 'walk',\n",
       " 'horse',\n",
       " 'scruffy',\n",
       " 'poodle']"
      ]
     },
     "execution_count": 112,
     "metadata": {},
     "output_type": "execute_result"
    }
   ],
   "source": [
    "lexicon.cats[\"pet\"][:15]"
   ]
  },
  {
   "cell_type": "markdown",
   "metadata": {},
   "source": [
    "### Studying Pride and Prejudice"
   ]
  },
  {
   "cell_type": "code",
   "execution_count": 114,
   "metadata": {},
   "outputs": [],
   "source": [
    "nlp = spacy.load('en_core_web_sm')\n",
    "doc = nlp(books[3])"
   ]
  },
  {
   "cell_type": "code",
   "execution_count": 115,
   "metadata": {},
   "outputs": [],
   "source": [
    "empath_features = lexicon.analyze(doc.text,categories = [\"disappointment\", \"pain\", \"joy\", \"beauty\", \"affection\"])"
   ]
  },
  {
   "cell_type": "code",
   "execution_count": 116,
   "metadata": {},
   "outputs": [
    {
     "data": {
      "text/plain": [
       "{'disappointment': 149.0,\n",
       " 'pain': 228.0,\n",
       " 'joy': 278.0,\n",
       " 'beauty': 136.0,\n",
       " 'affection': 439.0}"
      ]
     },
     "execution_count": 116,
     "metadata": {},
     "output_type": "execute_result"
    }
   ],
   "source": [
    "empath_features"
   ]
  },
  {
   "cell_type": "code",
   "execution_count": 117,
   "metadata": {},
   "outputs": [],
   "source": [
    "empath_features = lexicon.analyze(doc.text,categories = [\"disappointment\", \"pain\", \"joy\", \"beauty\", \"affection\"], normalize = True)"
   ]
  },
  {
   "cell_type": "code",
   "execution_count": 118,
   "metadata": {},
   "outputs": [
    {
     "data": {
      "text/plain": [
       "{'disappointment': 0.0012256615693403638,\n",
       " 'pain': 0.001875508978587939,\n",
       " 'joy': 0.002286804807225645,\n",
       " 'beauty': 0.0011187246538945602,\n",
       " 'affection': 0.0036111773754390585}"
      ]
     },
     "execution_count": 118,
     "metadata": {},
     "output_type": "execute_result"
    }
   ],
   "source": [
    "empath_features"
   ]
  },
  {
   "cell_type": "markdown",
   "metadata": {},
   "source": [
    "### Usecase: the evolution of topics"
   ]
  },
  {
   "cell_type": "code",
   "execution_count": 119,
   "metadata": {},
   "outputs": [],
   "source": [
    "bins = range(0,len(doc.text),150000)\n"
   ]
  },
  {
   "cell_type": "code",
   "execution_count": 120,
   "metadata": {},
   "outputs": [],
   "source": [
    "love = []\n",
    "pain = []\n",
    "beauty = []\n",
    "affection = []\n",
    "\n",
    "\n",
    "for cnt,i in enumerate(bins[:-1]):\n",
    "    empath_features = lexicon.analyze(doc.text[bins[cnt]:bins[cnt+1]],\n",
    "                                      categories = [\"love\", \"pain\", \"joy\", \"beauty\", \"affection\"], normalize = True)\n",
    "    love.append(empath_features[\"love\"])\n",
    "    pain.append(empath_features[\"pain\"])\n",
    "    beauty.append(empath_features[\"beauty\"])\n",
    "    affection.append(empath_features[\"affection\"])"
   ]
  },
  {
   "cell_type": "code",
   "execution_count": 121,
   "metadata": {},
   "outputs": [
    {
     "data": {
      "text/plain": [
       "<matplotlib.legend.Legend at 0x1e88edb0a00>"
      ]
     },
     "execution_count": 121,
     "metadata": {},
     "output_type": "execute_result"
    },
    {
     "data": {
      "image/png": "[encoded data removed]",
      "text/plain": [
       "<Figure size 640x480 with 1 Axes>"
      ]
     },
     "metadata": {},
     "output_type": "display_data"
    }
   ],
   "source": [
    "plt.plot(love,label = \"love\")\n",
    "plt.plot(beauty, label = \"beauty\")\n",
    "plt.plot(affection, label = \"affection\")\n",
    "plt.plot(pain,label = \"pain\")\n",
    "\n",
    "plt.xlabel(\"progression in the book\")\n",
    "plt.ylabel(\"frequency of a category\")\n",
    "plt.legend()"
   ]
  },
  {
   "cell_type": "code",
   "execution_count": 133,
   "metadata": {},
   "outputs": [],
   "source": [
    "# We can observe how as the story progresses, beauty and affection categories decrease, while love and pain intensify!"
   ]
  },
  {
   "cell_type": "markdown",
   "metadata": {},
   "source": [
    "### We can create custom categories based on seed terms!\n",
    "### Models trained on: fiction, nytimes or reddit"
   ]
  },
  {
   "cell_type": "code",
   "execution_count": 122,
   "metadata": {},
   "outputs": [
    {
     "name": "stdout",
     "output_type": "stream",
     "text": [
      "[\"avocado\", \"kale\", \"Swiss_chard\", \"escarole\", \"black_beans\", \"cucumber\", \"dill\", \"leek\", \"mango\", \"red_peppers\", \"chicory\", \"chanterelles\", \"chutney\", \"tamarind\", \"papaya\", \"black_olives\", \"endive\", \"pesto\", \"walnuts\", \"green_beans\", \"bok_choy\", \"portobello_mushrooms\", \"lemon_grass\", \"radicchio\", \"ricotta\", \"chicken_breast\", \"porcini\", \"blue_cheese\", \"snow_peas\", \"pickled\", \"Gorgonzola\", \"chorizo\", \"yams\", \"hazelnuts\", \"fresh_tomatoes\", \"shiitake_mushrooms\", \"anchovies\", \"wild_rice\", \"scallion\", \"red_onions\", \"broccoli_rape\", \"red_cabbage\", \"wasabi\", \"sweet_potato\", \"feta\", \"roasted_garlic\", \"compote\", \"napoleon\", \"aioli\", \"crab_meat\", \"cauliflower\", \"jicama\", \"parsnips\", \"apricots\", \"new_potatoes\", \"truffle_oil\", \"lemongrass\", \"pistachios\", \"saut\\u00e9ed\", \"gnocchi\", \"duck_confit\", \"fresh_herbs\", \"ratatouille\", \"white_beans\", \"croutons\", \"fresh_mozzarella\", \"squab\", \"watercress\", \"roasted_red_peppers\", \"pine_nuts\", \"fritters\", \"butternut_squash\", \"fava_beans\", \"drizzled\", \"red_onion\", \"pea_shoots\", \"rosemary\", \"romaine\", \"mustard_greens\", \"horseradish\", \"caramelized_onions\", \"artichoke_hearts\", \"fettuccine\", \"grilled_eggplant\", \"julienne\", \"plum_tomatoes\", \"grilled_chicken\", \"pineapple\", \"candied\", \"pancetta\", \"celery_root\", \"sea_scallops\", \"shiitake\", \"porcini_mushrooms\", \"sour_cream\", \"bean_sprouts\", \"oyster_mushrooms\", \"monkfish\", \"chickpeas\", \"coconut_milk\"]\n"
     ]
    }
   ],
   "source": [
    "lexicon.create_category(\"healthy_food\", [\"healthy_food\",\"low_carb\",\"kale\",\"avocado\"], model=\"nytimes\")"
   ]
  },
  {
   "cell_type": "code",
   "execution_count": 135,
   "metadata": {},
   "outputs": [
    {
     "name": "stdout",
     "output_type": "stream",
     "text": [
      "[\"green_vegetables\", \"leafy_greens\", \"whole_grain_bread\", \"brown_rice\", \"white_rice\", \"green_veggies\", \"veggies\", \"whole_wheat_bread\", \"sweet_potatoes\", \"raw_veggies\", \"lean_meat\", \"spinach\", \"fatty_meat\", \"kale\", \"sweet_potato\", \"avocado\", \"hummus\", \"chicken_breast\", \"veggie\", \"whole_grain\", \"vegetables\", \"whole_wheat_pasta\", \"salads\", \"broccoli\", \"greek_yogurt\", \"Greek_yogurt\", \"yogurt\", \"avocados\", \"rice_cakes\", \"raw_vegetables\", \"almonds\", \"lean_protein\", \"grilled_chicken\", \"quinoa\", \"steamed_broccoli\", \"whole_grain_pasta\", \"brocolli\", \"kale\", \"avocado\", \"tofu\", \"Veggies\", \"edamame\", \"more_veggies\", \"lean_meats\", \"quinoa\", \"salad\", \"cottage_cheese\", \"whole_wheat\", \"wheat_bread\", \"romaine_lettuce\", \"white_bread\", \"raw_spinach\", \"oatmeal\", \"white_potatoes\", \"almond_butter\", \"pork_rinds\", \"veg\", \"cashews\", \"greek_yoghurt\", \"baby_carrots\", \"fresh_veggies\", \"fatty_meats\", \"more_vegetables\", \"avacado\", \"veges\", \"nut_butter\", \"hard_boiled_eggs\", \"carrot_sticks\", \"whole_grains\", \"grilled_chicken_breast\", \"steamed_vegetables\", \"meats\", \"lentils\", \"green_beans\", \"low_cal\", \"nuts/seeds\", \"iceberg_lettuce\", \"carrots\", \"red_meat\", \"other_foods\", \"fried_foods\", \"smoothies\", \"healthy_fats\", \"vegies\", \"avacados\", \"other_vegetables\", \"fresh_fruit\", \"spinach_salad\", \"egg_whites\", \"steamed_veggies\", \"nut_butters\", \"ground_turkey\", \"baked_chicken\"]\n"
     ]
    }
   ],
   "source": [
    "lexicon.create_category(\"healthy_food\", [\"healthy_food\",\"low_carb\",\"kale\",\"avocado\"], model=\"reddit\")"
   ]
  },
  {
   "cell_type": "code",
   "execution_count": 136,
   "metadata": {},
   "outputs": [
    {
     "name": "stdout",
     "output_type": "stream",
     "text": [
      "[\"turkey\", \"roast_beef\", \"white_bread\", \"fried_chicken\", \"pancakes\", \"peanut_butter\", \"gefilte_fish\", \"stuffing\", \"French_fries\", \"meatloaf\", \"brisket\", \"potato_salad\", \"pumpkin_pie\", \"scrambled_eggs\", \"french_fries\", \"spaghetti\", \"gravy\", \"tamales\", \"pot_roast\", \"oatmeal\", \"lasagna\", \"corned_beef\", \"latkes\", \"pickles\", \"sauerkraut\", \"burger\", \"grits\", \"biscuits\", \"hamburger\", \"salad_bar\", \"corn_bread\", \"chicken_soup\", \"bacon\", \"cream_cheese\", \"brownies\", \"tofu\", \"pastrami\", \"pork_chops\", \"salami\", \"marshmallows\", \"collard_greens\", \"macaroni\", \"pies\", \"raw_fish\", \"eggnog\", \"cheeseburgers\", \"truffles\", \"chocolate_cake\", \"hard-boiled_eggs\", \"baked_potatoes\", \"venison\", \"cottage_cheese\", \"pheasant\", \"applesauce\", \"quail\", \"fruit_salad\", \"meatballs\", \"chocolate_chip_cookies\", \"tacos\", \"roast\", \"jelly\", \"chicken_salad\", \"omelet\", \"gumbo\", \"steaks\", \"soup\", \"lox\", \"sausage\", \"roast_chicken\", \"rye\", \"bagel\", \"fruitcake\", \"fries\", \"fried_eggs\", \"ketchup\", \"chicken_wings\", \"barbecue_sauce\", \"sweet_potatoes\", \"pasta\", \"sausages\", \"crackers\", \"omelets\", \"roasting\", \"French_toast\", \"muffins\", \"mashed_potatoes\", \"fresh_fruit\", \"baked_potato\", \"waffles\", \"cranberry_sauce\", \"baked_beans\", \"cheese\", \"tripe\", \"noodles\", \"maple_syrup\", \"quiche\", \"buns\", \"baklava\", \"stews\"]\n"
     ]
    }
   ],
   "source": [
    "lexicon.create_category(\"festive_food\", [\"festive_food\",\"turkey\",\"eggnog\"], model=\"nytimes\")"
   ]
  },
  {
   "cell_type": "markdown",
   "metadata": {},
   "source": [
    "### List of further resources\n",
    "    * NLTK\n",
    "    * Jellyfish: string similarity library\n",
    "    * TextBlob: simplified text processing\n",
    "    * PyEnchant: language detection\n",
    "    * WordNet: ontology of concepts (inc. in NLTK)\n",
    "    * Stanford NLP (Java)\n",
    "    * Tweet NLP: https://www.cs.cmu.edu/~ark/TweetNLP/"
   ]
  },
  {
   "cell_type": "markdown",
   "metadata": {},
   "source": [
    "## Part 2"
   ]
  },
  {
   "cell_type": "markdown",
   "metadata": {},
   "source": [
    "### Question 1:\n",
    "An NLP preprocessing model, using the list of stopwords ['a', 'the', 'is', 'you', 'I','my','with','was'] for the input sentence\n",
    "“I was driving down the street with my CAR! :)” <br>\n",
    "gives the following output: {driving, down, street, car, :)}.\n",
    "The model consists of: <br>\n",
    "\n",
    "a) Stopword Removal, Casefolding and Stemming <br>\n",
    "b) Stopword Removal and Casefolding <br>\n",
    "c) Stopword Removal and Stemming <br>\n",
    "d) Casefolding and Stemming <br>"
   ]
  },
  {
   "cell_type": "code",
   "execution_count": 137,
   "metadata": {},
   "outputs": [],
   "source": [
    "b"
   ]
  },
  {
   "cell_type": "markdown",
   "metadata": {},
   "source": [
    "### Question 2:\n",
    "What statement is false about topic detection using LSA: <br>\n",
    "\n",
    "a) It finds the representation of documents and words in the latent \"topic space\" <br>\n",
    "b) It produces topics interpretable in “word space” <br>\n",
    "c) A document's topic representation is a probability distribution over topics <br>\n",
    "d) The vectors representing topics in “word space” are linearly independent <br>"
   ]
  },
  {
   "cell_type": "code",
   "execution_count": 138,
   "metadata": {},
   "outputs": [],
   "source": [
    "c"
   ]
  },
  {
   "cell_type": "markdown",
   "metadata": {},
   "source": [
    "### Question 3:\n",
    "The problem of having more features than documents when using a TF-IDF matrix for document classification cannot be addressed by: <br>\n",
    "\n",
    "a) Using SVD for dimensionality reduction <br>\n",
    "b) Using min-max scaling of features <br>\n",
    "c) Penalizing very large positive and very large negative weights (a.k.a. regularization) <br>\n",
    "d) Using online feature selection <br>"
   ]
  },
  {
   "cell_type": "code",
   "execution_count": 139,
   "metadata": {},
   "outputs": [],
   "source": [
    "a,d"
   ]
  },
  {
   "cell_type": "markdown",
   "metadata": {},
   "source": [
    "### Question 4:\n",
    "Which of the following is false about word vectors: <br>\n",
    "\n",
    "a) Word2vec is used to achieve a lower dimensional representation than bag of words <br>\n",
    "b) Semantically similar words typically have similar word2vec vectors <br>\n",
    "c) Each dimension in the word2vec embedding has a clear interpretation <br>\n",
    "d) Word2Vec can be used for the computation of sentence vectors <br>"
   ]
  },
  {
   "cell_type": "code",
   "execution_count": 140,
   "metadata": {},
   "outputs": [],
   "source": [
    "b"
   ]
  },
  {
   "cell_type": "markdown",
   "metadata": {},
   "source": [
    "### Question 5:\n",
    "Given the following word (W) / context (C) co-occurrence frequencies, which statement is true regarding the pointwise mutual information (PMI)?\n",
    "\n",
    "|  |W1|W2|W3|\n",
    "|--|--|--|--|\n",
    "|C1| 2| 0| 3|\n",
    "|C2| 6| 4| 0|\n",
    "|C3| 1| 1| 3|\n",
    "\n",
    "a) PMI(w=W1, c=C2) > PMI(w=W2, c=C2) > PMI(w=W3, c=C3) <br>\n",
    "b) PMI(w=W2, c=C2) > PMI(w=W1, c=C2) >  PMI(w=W3, c=C3) <br>\n",
    "c) PMI(w=W3, c=C3) > PMI(w=W1, c=C2) > PMI(w=W2, c=C2) <br>\n",
    "d) PMI(w=W3, c=C3) > PMI(w=W2, c=C2) > PMI(w=W1, c=C2) <br>"
   ]
  },
  {
   "cell_type": "code",
   "execution_count": 124,
   "metadata": {},
   "outputs": [],
   "source": [
    "def PMI(prcw, prc, prw):\n",
    "    return np.log(prcw/(prc*prw))\n",
    "\n",
    "def PMIs(mat):\n",
    "    for c in range(len(mat)):\n",
    "        for w in range(len(mat[0])):\n",
    "            prw = np.sum(mat[:,w])\n",
    "            prc = np.sum(mat[c,:])\n",
    "            prcw = mat[c,w]\n",
    "            PMI_temp = PMI(prcw, prc, prw)\n",
    "            print(f'PMI(w=W{w+1}, c=C{c+1}) = {PMI_temp} )')"
   ]
  },
  {
   "cell_type": "code",
   "execution_count": 127,
   "metadata": {
    "tags": []
   },
   "outputs": [
    {
     "name": "stdout",
     "output_type": "stream",
     "text": [
      "PMI(w=W1, c=C1) = -3.1135153092103742 )\n",
      "PMI(w=W2, c=C1) = -inf )\n",
      "PMI(w=W3, c=C1) = -2.3025850929940455 )\n",
      "PMI(w=W1, c=C2) = -2.70805020110221 )\n",
      "PMI(w=W2, c=C2) = -2.5257286443082556 )\n",
      "PMI(w=W3, c=C2) = -inf )\n",
      "PMI(w=W1, c=C3) = -3.8066624897703196 )\n",
      "PMI(w=W2, c=C3) = -3.2188758248682006 )\n",
      "PMI(w=W3, c=C3) = -2.3025850929940455 )\n"
     ]
    }
   ],
   "source": [
    "bow = np.array([[ 2, 0, 3],\n",
    "                 [6, 4, 0],\n",
    "                 [1, 1, 3]])\n",
    "               \n",
    "PMIs(bow)"
   ]
  },
  {
   "cell_type": "markdown",
   "metadata": {},
   "source": [
    "a) -2.7 > -2.5 > -2.3\n",
    "b) "
   ]
  }
 ],
 "metadata": {
  "kernelspec": {
   "display_name": "Python 3 (ipykernel)",
   "language": "python",
   "name": "python3"
  },
  "language_info": {
   "codemirror_mode": {
    "name": "ipython",
    "version": 3
   },
   "file_extension": ".py",
   "mimetype": "text/x-python",
   "name": "python",
   "nbconvert_exporter": "python",
   "pygments_lexer": "ipython3",
   "version": "3.9.13"
  },
  "toc": {
   "colors": {
    "hover_highlight": "#DAA520",
    "navigate_num": "#000000",
    "navigate_text": "#333333",
    "running_highlight": "#FF0000",
    "selected_highlight": "#FFD700",
    "sidebar_border": "#EEEEEE",
    "wrapper_background": "#FFFFFF"
   },
   "moveMenuLeft": true,
   "nav_menu": {
    "height": "228px",
    "width": "252px"
   },
   "navigate_menu": true,
   "number_sections": true,
   "sideBar": true,
   "threshold": 4,
   "toc_cell": false,
   "toc_section_display": "block",
   "toc_window_display": false,
   "widenNotebook": false
  },
  "varInspector": {
   "cols": {
    "lenName": 16,
    "lenType": 16,
    "lenVar": 40
   },
   "kernels_config": {
    "python": {
     "delete_cmd_postfix": "",
     "delete_cmd_prefix": "del ",
     "library": "var_list.py",
     "varRefreshCmd": "print(var_dic_list())"
    },
    "r": {
     "delete_cmd_postfix": ") ",
     "delete_cmd_prefix": "rm(",
     "library": "var_list.r",
     "varRefreshCmd": "cat(var_dic_list()) "
    }
   },
   "types_to_exclude": [
    "module",
    "function",
    "builtin_function_or_method",
    "instance",
    "_Feature"
   ],
   "window_display": false
  }
 },
 "nbformat": 4,
 "nbformat_minor": 4
}
